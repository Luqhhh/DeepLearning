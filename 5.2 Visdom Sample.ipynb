{
 "cells": [
  {
   "cell_type": "code",
   "execution_count": 1,
   "id": "84a0fa58",
   "metadata": {},
   "outputs": [],
   "source": [
    "import torch\n",
    "import torch.nn as nn\n",
    "import torchvision\n",
    "import torchvision.datasets as dsets\n",
    "import torchvision.transforms as transforms\n",
    "import visdom"
   ]
  },
  {
   "cell_type": "code",
   "execution_count": 2,
   "id": "1db75f5b",
   "metadata": {},
   "outputs": [
    {
     "name": "stderr",
     "output_type": "stream",
     "text": [
      "Setting up a new session...\n"
     ]
    },
    {
     "data": {
      "text/plain": [
       "'window_3ddd6fb08deb7e'"
      ]
     },
     "execution_count": 2,
     "metadata": {},
     "output_type": "execute_result"
    }
   ],
   "source": [
    "vis=visdom.Visdom()\n",
    "vis.text(\"Hello World!\",env=\"main\")"
   ]
  },
  {
   "cell_type": "code",
   "execution_count": 3,
   "id": "c510aaad",
   "metadata": {},
   "outputs": [
    {
     "data": {
      "text/plain": [
       "'window_3ddd6fb21e8cb2'"
      ]
     },
     "execution_count": 3,
     "metadata": {},
     "output_type": "execute_result"
    }
   ],
   "source": [
    "a=torch.randn(1,28,28)#生成一个符合 标准正态分布（均值为0，标准差为1）的张量（Tensor）。\n",
    "vis.image(a)\n",
    "b=torch.randn(3,200,200)\n",
    "vis.image(b)"
   ]
  },
  {
   "cell_type": "code",
   "execution_count": 4,
   "id": "b5b5adc9",
   "metadata": {},
   "outputs": [
    {
     "name": "stdout",
     "output_type": "stream",
     "text": [
      "Files already downloaded and verified\n"
     ]
    }
   ],
   "source": [
    "mnist_data=dsets.MNIST(root=\"./mnist_data\",\n",
    "                       train=True,\n",
    "                       download=True,\n",
    "                       transform=transforms.ToTensor())\n",
    "cifar10_data=dsets.CIFAR10(root=\"./cifar_data\",\n",
    "                           train=True,\n",
    "                           transform=transforms.ToTensor(),\n",
    "                           download=True)"
   ]
  },
  {
   "cell_type": "code",
   "execution_count": 5,
   "id": "e1e9c30d",
   "metadata": {},
   "outputs": [
    {
     "name": "stdout",
     "output_type": "stream",
     "text": [
      "torch.Size([3, 32, 32])\n"
     ]
    },
    {
     "data": {
      "text/plain": [
       "'window_3ddd6fb60f6068'"
      ]
     },
     "execution_count": 5,
     "metadata": {},
     "output_type": "execute_result"
    }
   ],
   "source": [
    "example1=cifar10_data.__getitem__(0)#获取 CIFAR10 数据集中的第 0 个样本。\n",
    "print(example1[0].shape)#返回一个元组，其中 data[0] 是图像张量（通常形状为 (3, 32, 32)），data[1] 是对应的标签。\n",
    "vis.images(example1[0])"
   ]
  },
  {
   "cell_type": "code",
   "execution_count": 6,
   "id": "c54a90ed",
   "metadata": {},
   "outputs": [
    {
     "name": "stdout",
     "output_type": "stream",
     "text": [
      "torch.Size([1, 28, 28])\n"
     ]
    },
    {
     "data": {
      "text/plain": [
       "'window_3ddd6fb6235dea'"
      ]
     },
     "execution_count": 6,
     "metadata": {},
     "output_type": "execute_result"
    }
   ],
   "source": [
    "example2=mnist_data.__getitem__(0)\n",
    "print(example2[0].shape)\n",
    "vis.image(example2[0])"
   ]
  },
  {
   "cell_type": "code",
   "execution_count": 9,
   "id": "745f20ef",
   "metadata": {},
   "outputs": [],
   "source": [
    "data_loader=torch.utils.data.DataLoader(dataset=cifar10_data,\n",
    "                                   shuffle=False,\n",
    "                                   batch_size=10)"
   ]
  },
  {
   "cell_type": "code",
   "execution_count": 10,
   "id": "8a1135ae",
   "metadata": {},
   "outputs": [
    {
     "name": "stdout",
     "output_type": "stream",
     "text": [
      "torch.Size([10, 3, 32, 32])\n"
     ]
    }
   ],
   "source": [
    "for value in data_loader:\n",
    "    data=value[0]\n",
    "    print(data.shape)\n",
    "    vis.images(data)\n",
    "    break"
   ]
  },
  {
   "cell_type": "code",
   "execution_count": 11,
   "id": "8bf6be35",
   "metadata": {},
   "outputs": [
    {
     "data": {
      "text/plain": [
       "''"
      ]
     },
     "execution_count": 11,
     "metadata": {},
     "output_type": "execute_result"
    }
   ],
   "source": [
    "vis.close(env=\"main\")"
   ]
  },
  {
   "cell_type": "code",
   "execution_count": 13,
   "id": "bb75dad6",
   "metadata": {},
   "outputs": [],
   "source": [
    "Y_data=torch.randn(5)\n",
    "plt=vis.line(Y=Y_data)#返回一个窗口句柄（或 ID）保存到变量 plt 中，以便后续更新或修改该图\n",
    "\n",
    "X_data=torch.Tensor([1,2,3,4,5])\n",
    "plt=vis.line(X=X_data,Y=Y_data)"
   ]
  },
  {
   "cell_type": "code",
   "execution_count": 15,
   "id": "f034c0ac",
   "metadata": {},
   "outputs": [
    {
     "data": {
      "text/plain": [
       "'window_3ddd711f9e4eea'"
      ]
     },
     "execution_count": 15,
     "metadata": {},
     "output_type": "execute_result"
    }
   ],
   "source": [
    "X_append=torch.Tensor([6])\n",
    "Y_append=torch.randn(1)\n",
    "vis.line(X=X_append,Y=Y_append,win=plt,update='append')#win=plt 之前创建的窗口，update='append' 将新数据点追加到已有的折线图中，而不重绘整张图。\n"
   ]
  },
  {
   "cell_type": "code",
   "execution_count": 17,
   "id": "a23fd92b",
   "metadata": {},
   "outputs": [
    {
     "data": {
      "text/plain": [
       "'window_3ddd7258dea7e2'"
      ]
     },
     "execution_count": 17,
     "metadata": {},
     "output_type": "execute_result"
    }
   ],
   "source": [
    "x=torch.Tensor(list(range(0,10))).view(-1,1)\n",
    "X_data1=torch.cat((x,x),dim=1)\n",
    "vis.line(X=X_data1,Y=torch.randn(10,2))"
   ]
  },
  {
   "cell_type": "code",
   "execution_count": 20,
   "id": "6ac365b2",
   "metadata": {},
   "outputs": [
    {
     "data": {
      "text/plain": [
       "'window_3ddd72e5968bd6'"
      ]
     },
     "execution_count": 20,
     "metadata": {},
     "output_type": "execute_result"
    }
   ],
   "source": [
    "vis.line(X=X_data1,Y=torch.randn(10,2),opts=dict(title='Test',legend=[\"No.1\",\"No.2\"],showlegend=True))"
   ]
  },
  {
   "cell_type": "code",
   "execution_count": 21,
   "id": "633ec646",
   "metadata": {},
   "outputs": [
    {
     "data": {
      "text/plain": [
       "''"
      ]
     },
     "execution_count": 21,
     "metadata": {},
     "output_type": "execute_result"
    }
   ],
   "source": [
    "vis.close(env='main')"
   ]
  },
  {
   "cell_type": "code",
   "execution_count": 22,
   "id": "235566d6",
   "metadata": {},
   "outputs": [],
   "source": [
    "def track_loss(loss_plot,loss_value,num):\n",
    "    '''loss_value,num are tensor'''\n",
    "    vis.line(X=num,Y=loss_value,win=loss_plot,update='append')"
   ]
  },
  {
   "cell_type": "code",
   "execution_count": 23,
   "id": "e395da7b",
   "metadata": {},
   "outputs": [],
   "source": [
    "plt=vis.line(Y=torch.zeros(1))\n",
    "for i in range(500):\n",
    "    loss=torch.randn(1)+i\n",
    "    track_loss(plt,loss,torch.Tensor([i]))"
   ]
  },
  {
   "cell_type": "code",
   "execution_count": 24,
   "id": "750c943b",
   "metadata": {},
   "outputs": [
    {
     "data": {
      "text/plain": [
       "''"
      ]
     },
     "execution_count": 24,
     "metadata": {},
     "output_type": "execute_result"
    }
   ],
   "source": [
    "vis.close(env='main')"
   ]
  },
  {
   "cell_type": "code",
   "execution_count": null,
   "id": "07204b53",
   "metadata": {},
   "outputs": [],
   "source": []
  }
 ],
 "metadata": {
  "kernelspec": {
   "display_name": "oi",
   "language": "python",
   "name": "oi"
  },
  "language_info": {
   "codemirror_mode": {
    "name": "ipython",
    "version": 3
   },
   "file_extension": ".py",
   "mimetype": "text/x-python",
   "name": "python",
   "nbconvert_exporter": "python",
   "pygments_lexer": "ipython3",
   "version": "3.9.13"
  }
 },
 "nbformat": 4,
 "nbformat_minor": 5
}
