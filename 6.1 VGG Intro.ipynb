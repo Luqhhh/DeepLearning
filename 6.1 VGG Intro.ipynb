{
 "cells": [
  {
   "cell_type": "markdown",
   "id": "43b2f42c",
   "metadata": {},
   "source": [
    "# 两种引入方式"
   ]
  },
  {
   "cell_type": "raw",
   "id": "aab1fd5c",
   "metadata": {},
   "source": [
    "import torch.utils.model_zoo as model_zoo"
   ]
  },
  {
   "cell_type": "raw",
   "id": "e8fe213d",
   "metadata": {},
   "source": [
    "__all__ = [\n",
    "    'VGG', 'vgg11', 'vgg11_bn', 'vgg13', 'vgg13_bn', 'vgg16', 'vgg16_bn',\n",
    "    'vgg19_bn', 'vgg19',\n",
    "]\n",
    "\n",
    "\n",
    "model_urls = {\n",
    "    'vgg11': 'https://download.pytorch.org/models/vgg11-bbd30ac9.pth',\n",
    "    'vgg13': 'https://download.pytorch.org/models/vgg13-c768596a.pth',\n",
    "    'vgg16': 'https://download.pytorch.org/models/vgg16-397923af.pth',\n",
    "    'vgg19': 'https://download.pytorch.org/models/vgg19-dcbb9e9d.pth',\n",
    "    'vgg11_bn': 'https://download.pytorch.org/models/vgg11_bn-6002323d.pth',\n",
    "    'vgg13_bn': 'https://download.pytorch.org/models/vgg13_bn-abd245e5.pth',\n",
    "    'vgg16_bn': 'https://download.pytorch.org/models/vgg16_bn-6c64b313.pth',\n",
    "    'vgg19_bn': 'https://download.pytorch.org/models/vgg19_bn-c79401a0.pth',\n",
    "}"
   ]
  },
  {
   "cell_type": "raw",
   "id": "b9def4bf",
   "metadata": {},
   "source": [
    "# 下载并加载预训练参数\n",
    "state_dict=model_zoo.load_url(model_urls['vgg19_bn'])\n",
    "# 假设你已经定义好 make_layers 函数和 cfg 配置（例如 cfg['D']）\n",
    "model = VGG(make_layers(cfg['D']))\n",
    "# 将下载的参数加载到模型中\n",
    "model.load_state_dict(state_dict)"
   ]
  },
  {
   "cell_type": "raw",
   "id": "909aaacb",
   "metadata": {},
   "source": [
    "import torchvision.models as models\n",
    "model=models.vgg16(pretrained=True)"
   ]
  },
  {
   "cell_type": "markdown",
   "id": "85cb6b3a",
   "metadata": {},
   "source": [
    "# VGG模型实现"
   ]
  },
  {
   "cell_type": "code",
   "execution_count": 1,
   "id": "110556b8",
   "metadata": {},
   "outputs": [],
   "source": [
    "import torch\n",
    "import torchvision\n",
    "import torch.nn as nn"
   ]
  },
  {
   "cell_type": "code",
   "execution_count": 19,
   "id": "9200db39",
   "metadata": {},
   "outputs": [],
   "source": [
    "class VGG(nn.Module):\n",
    "    def __init__(self,features,num_classes,init_weight,pretrianed):\n",
    "        super().__init__()\n",
    "        self.features=features\n",
    "        self.avgpool=nn.AdaptiveAvgPool2d((7,7))\n",
    "        self.classifier=nn.Sequential(\n",
    "        nn.Linear(512*7*7,4096),\n",
    "        nn.ReLU(True),\n",
    "        nn.Dropout(),\n",
    "        nn.Linear(4096,4096),\n",
    "        nn.ReLU(True),\n",
    "        nn.Dropout(),\n",
    "        nn.Linear(4096,num_classes))\n",
    "        if(init_weight):\n",
    "            self.initialize_weight()\n",
    "        if pretrianed:\n",
    "            state_dict = torch.load('D:/Data/vgg19/vgg19-dcbb9e9d.pth')#\"D:\\Data\\vgg19\\vgg19-dcbb9e9d.pth\"\n",
    "            self.load_state_dict(state_dict)\n",
    "\n",
    "    def forward(self,x):\n",
    "        out1=self.features(x)\n",
    "        out2=self.avgpool(out1)\n",
    "        out3=self.classifier(out2.view(out2.shape[0],-1))\n",
    "        return out3\n",
    "    def initialize_weight(self):\n",
    "        for m in self.modules():\n",
    "            if isinstance(m,nn.Conv2d):\n",
    "                nn.init.kaiming_normal_(m.weight,mode='fan_out',nonlinearity='relu')\n",
    "                if m.bias is not None:\n",
    "                    nn.init.constant_(m.bias,0)\n",
    "            elif isinstance(m,nn.BatchNorm2d):\n",
    "                nn.init.constant_(m.weight,1)\n",
    "                nn.init.constant_(m.bias,0)\n",
    "            elif isinstance(m,nn.Linear):\n",
    "                nn.init.normal_(m.weight,0,0.01)\n",
    "                nn.init.constant_(m.bias,0)\n",
    "        "
   ]
  },
  {
   "cell_type": "code",
   "execution_count": 20,
   "id": "4275f93b",
   "metadata": {},
   "outputs": [],
   "source": [
    "cfg = [64, 64, 'M', 128, 128, 'M', 256, 256, 256, 256, 'M', 512, 512, 512, 512, 'M', 512, 512, 512, 512, 'M']\n"
   ]
  },
  {
   "cell_type": "code",
   "execution_count": 21,
   "id": "ac39e6a0",
   "metadata": {},
   "outputs": [],
   "source": [
    "def make_layers(cfg,batch_norm):\n",
    "    layers=[]\n",
    "    in_channels=3\n",
    "    for v in cfg:\n",
    "        if v=='M':\n",
    "            layers+=[nn.MaxPool2d(kernel_size=2,stride=2)]\n",
    "        else:\n",
    "            conv2d=nn.Conv2d(in_channels,v,kernel_size=3,padding=1)\n",
    "            if batch_norm:\n",
    "                layers+=[conv2d,nn.BatchNorm2d(v),nn.ReLU()]\n",
    "            else:\n",
    "                layers+=[conv2d,nn.ReLU()]\n",
    "            in_channels=v\n",
    "    return nn.Sequential(*layers)"
   ]
  },
  {
   "cell_type": "code",
   "execution_count": 22,
   "id": "a5e35e2a",
   "metadata": {},
   "outputs": [],
   "source": [
    "model=VGG(make_layers(cfg,batch_norm=False),num_classes=1000,init_weight=True,pretrianed=True)"
   ]
  },
  {
   "cell_type": "code",
   "execution_count": 23,
   "id": "e4b58482",
   "metadata": {},
   "outputs": [
    {
     "data": {
      "text/plain": [
       "VGG(\n",
       "  (features): Sequential(\n",
       "    (0): Conv2d(3, 64, kernel_size=(3, 3), stride=(1, 1), padding=(1, 1))\n",
       "    (1): ReLU()\n",
       "    (2): Conv2d(64, 64, kernel_size=(3, 3), stride=(1, 1), padding=(1, 1))\n",
       "    (3): ReLU()\n",
       "    (4): MaxPool2d(kernel_size=2, stride=2, padding=0, dilation=1, ceil_mode=False)\n",
       "    (5): Conv2d(64, 128, kernel_size=(3, 3), stride=(1, 1), padding=(1, 1))\n",
       "    (6): ReLU()\n",
       "    (7): Conv2d(128, 128, kernel_size=(3, 3), stride=(1, 1), padding=(1, 1))\n",
       "    (8): ReLU()\n",
       "    (9): MaxPool2d(kernel_size=2, stride=2, padding=0, dilation=1, ceil_mode=False)\n",
       "    (10): Conv2d(128, 256, kernel_size=(3, 3), stride=(1, 1), padding=(1, 1))\n",
       "    (11): ReLU()\n",
       "    (12): Conv2d(256, 256, kernel_size=(3, 3), stride=(1, 1), padding=(1, 1))\n",
       "    (13): ReLU()\n",
       "    (14): Conv2d(256, 256, kernel_size=(3, 3), stride=(1, 1), padding=(1, 1))\n",
       "    (15): ReLU()\n",
       "    (16): Conv2d(256, 256, kernel_size=(3, 3), stride=(1, 1), padding=(1, 1))\n",
       "    (17): ReLU()\n",
       "    (18): MaxPool2d(kernel_size=2, stride=2, padding=0, dilation=1, ceil_mode=False)\n",
       "    (19): Conv2d(256, 512, kernel_size=(3, 3), stride=(1, 1), padding=(1, 1))\n",
       "    (20): ReLU()\n",
       "    (21): Conv2d(512, 512, kernel_size=(3, 3), stride=(1, 1), padding=(1, 1))\n",
       "    (22): ReLU()\n",
       "    (23): Conv2d(512, 512, kernel_size=(3, 3), stride=(1, 1), padding=(1, 1))\n",
       "    (24): ReLU()\n",
       "    (25): Conv2d(512, 512, kernel_size=(3, 3), stride=(1, 1), padding=(1, 1))\n",
       "    (26): ReLU()\n",
       "    (27): MaxPool2d(kernel_size=2, stride=2, padding=0, dilation=1, ceil_mode=False)\n",
       "    (28): Conv2d(512, 512, kernel_size=(3, 3), stride=(1, 1), padding=(1, 1))\n",
       "    (29): ReLU()\n",
       "    (30): Conv2d(512, 512, kernel_size=(3, 3), stride=(1, 1), padding=(1, 1))\n",
       "    (31): ReLU()\n",
       "    (32): Conv2d(512, 512, kernel_size=(3, 3), stride=(1, 1), padding=(1, 1))\n",
       "    (33): ReLU()\n",
       "    (34): Conv2d(512, 512, kernel_size=(3, 3), stride=(1, 1), padding=(1, 1))\n",
       "    (35): ReLU()\n",
       "    (36): MaxPool2d(kernel_size=2, stride=2, padding=0, dilation=1, ceil_mode=False)\n",
       "  )\n",
       "  (avgpool): AdaptiveAvgPool2d(output_size=(7, 7))\n",
       "  (classifier): Sequential(\n",
       "    (0): Linear(in_features=25088, out_features=4096, bias=True)\n",
       "    (1): ReLU(inplace=True)\n",
       "    (2): Dropout(p=0.5, inplace=False)\n",
       "    (3): Linear(in_features=4096, out_features=4096, bias=True)\n",
       "    (4): ReLU(inplace=True)\n",
       "    (5): Dropout(p=0.5, inplace=False)\n",
       "    (6): Linear(in_features=4096, out_features=1000, bias=True)\n",
       "  )\n",
       ")"
      ]
     },
     "execution_count": 23,
     "metadata": {},
     "output_type": "execute_result"
    }
   ],
   "source": [
    "model"
   ]
  },
  {
   "cell_type": "code",
   "execution_count": 24,
   "id": "052ec038",
   "metadata": {},
   "outputs": [
    {
     "name": "stdout",
     "output_type": "stream",
     "text": [
      "torch.Size([100, 1000])\n"
     ]
    }
   ],
   "source": [
    "a=torch.zeros(100,3,32,32)\n",
    "out=model(a)\n",
    "print(out.shape)"
   ]
  },
  {
   "cell_type": "code",
   "execution_count": null,
   "id": "06c6a133",
   "metadata": {},
   "outputs": [],
   "source": []
  },
  {
   "cell_type": "code",
   "execution_count": null,
   "id": "16be68b7",
   "metadata": {},
   "outputs": [],
   "source": []
  }
 ],
 "metadata": {
  "kernelspec": {
   "display_name": "oi",
   "language": "python",
   "name": "oi"
  },
  "language_info": {
   "codemirror_mode": {
    "name": "ipython",
    "version": 3
   },
   "file_extension": ".py",
   "mimetype": "text/x-python",
   "name": "python",
   "nbconvert_exporter": "python",
   "pygments_lexer": "ipython3",
   "version": "3.9.13"
  }
 },
 "nbformat": 4,
 "nbformat_minor": 5
}
