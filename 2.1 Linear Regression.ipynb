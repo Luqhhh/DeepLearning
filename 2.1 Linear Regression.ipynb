{
 "cells": [
  {
   "cell_type": "markdown",
   "id": "7db716bf",
   "metadata": {},
   "source": [
    "1.import torch.nn as nn：\n",
    "\n",
    "torch.nn 是 PyTorch 用于构建神经网络的模块。\n",
    "nn 包含了各种网络层（如 Linear）、损失函数（如 MSELoss）和其他构建模型所需的工具。\n",
    "通过 nn，我们可以更高效地定义神经网络结构。\n",
    "\n",
    "2.import torch.nn.functional as F：\n",
    "\n",
    "torch.nn.functional 提供了许多常见的函数（如激活函数 ReLU，损失函数等。\n",
    "这些函数不需要额外的参数封装，是一种函数式的接口。\n",
    "\n",
    "3.import torch.optim as optim：\n",
    "\n",
    "torch.optim 提供了用于优化模型的算法（如梯度下降优化器 SGD）。\n",
    "优化器负责根据损失函数的梯度来调整模型参数。"
   ]
  },
  {
   "cell_type": "code",
   "execution_count": null,
   "id": "97da87f2",
   "metadata": {},
   "outputs": [],
   "source": [
    "import torch\n",
    "import torch.nn as nn\n",
    "import torch.nn.functional as F\n",
    "import torch.optim as optim\n",
    "import matplotlib.pyplot as plt\n",
    "import numpy as np\n",
    "import os\n",
    "os.environ[\"KMP_DUPLICATE_LIB_OK\"]=\"TRUE\""
   ]
  },
  {
   "cell_type": "code",
   "execution_count": null,
   "id": "2adba172",
   "metadata": {},
   "outputs": [],
   "source": [
    "torch.manual_seed(1)"
   ]
  },
  {
   "cell_type": "code",
   "execution_count": null,
   "id": "530b7d25",
   "metadata": {},
   "outputs": [],
   "source": [
    "x_train=torch.FloatTensor([[1],[2],[3]])\n",
    "y_train=torch.FloatTensor([[1],[2],[3]])"
   ]
  },
  {
   "cell_type": "code",
   "execution_count": null,
   "id": "8bfe7de9",
   "metadata": {},
   "outputs": [],
   "source": [
    "plt.scatter(x_train,y_train)\n",
    "xs=np.linspace(1,3,1000)#np.linspace(1, 3, 1000) 生成从 1 到 3 的 1000 个均匀分布的点。\n",
    "xs_2=np.linspace(1,3,1000)\n",
    "plt.plot(xs,xs_2)#使用 plt.plot(xs, xs_2) 绘制一条直线"
   ]
  },
  {
   "cell_type": "code",
   "execution_count": null,
   "id": "6cd12ee9",
   "metadata": {},
   "outputs": [],
   "source": [
    "W_1=np.linspace(-5,7,1000)\n",
    "cost_1=[]\n",
    "for W in W_1:\n",
    "    hypothesis=W*x_train\n",
    "    cost=torch.mean((hypothesis-y_train)**2)\n",
    "    cost_1.append(cost.item())"
   ]
  },
  {
   "cell_type": "code",
   "execution_count": null,
   "id": "95540ed7",
   "metadata": {},
   "outputs": [],
   "source": [
    "plt.plot(W_1,cost_1)\n",
    "plt.xlabel('$W$')\n",
    "plt.ylabel('cost')\n",
    "plt.show"
   ]
  },
  {
   "cell_type": "markdown",
   "id": "cb947ea3",
   "metadata": {},
   "source": [
    "Gradient Descent by Hand"
   ]
  },
  {
   "cell_type": "code",
   "execution_count": null,
   "id": "d4f25fc4",
   "metadata": {},
   "outputs": [],
   "source": [
    "W=torch.zeros(1)\n",
    "lr=0.1\n",
    "nb_epochs=10\n",
    "for epoch in range(nb_epochs+1):\n",
    "    hypothesis=x_train*W #按元素乘法，适用于单特征的情况。多特征数据，应使用矩阵乘法\n",
    "    cost=torch.mean((hypothesis-y_train)**2)\n",
    "    gradient=torch.sum((W*x_train-y_train)*x_train)#对所有样本的误差加权和进行求和,沿着总的损失函数的梯度方向更新权重\n",
    "    print('Epochs:{:4d}/{} W: {:.3f}, Cost: {:.6f}'.format(\n",
    "        epoch, nb_epochs, W.item(), cost.item()\n",
    "    ))\n",
    "    W-=lr*gradient"
   ]
  },
  {
   "cell_type": "markdown",
   "id": "13470c99",
   "metadata": {},
   "source": [
    "Advanced"
   ]
  },
  {
   "cell_type": "code",
   "execution_count": null,
   "id": "54300006",
   "metadata": {},
   "outputs": [],
   "source": [
    "W=torch.zeros(1,requires_grad=True)\n",
    "b=torch.zeros(1,requires_grad=True)\n",
    "\n",
    "optimizer=optim.SGD([W,b],lr=0.01)\n",
    "\n",
    "nb_epochs=1000\n",
    "for epoch in range(nb_epochs+1):\n",
    "    \n",
    "    hypothesis=W*x_train+b\n",
    "    cost=torch.mean((hypothesis-y_train)**2)\n",
    "    \n",
    "    optimizer.zero_grad()\n",
    "    cost.backward()\n",
    "    optimizer.step()\n",
    "    \n",
    "    if epoch%100==0:\n",
    "        print('Epoch {:4d}/{} W: {:.3f}, b: {:.3f} Cost: {:.6f}'.format(\n",
    "            epoch, nb_epochs, W.item(), b.item(), cost.item()\n",
    "        ))            "
   ]
  },
  {
   "cell_type": "code",
   "execution_count": null,
   "id": "061e4296",
   "metadata": {},
   "outputs": [],
   "source": [
    "class LinearRegressionModel(nn.Module):\n",
    "    def __init__(self):\n",
    "        super().__init__()\n",
    "        self.linear = nn.Linear(1, 1)\n",
    "\n",
    "    def forward(self, x):\n",
    "        return self.linear(x)\n",
    "    \n",
    "model=LinearRegressionModel()\n",
    "\n",
    "optimizer=optim.SGD(model.parameters(),lr=0.01)\n",
    "\n",
    "nb_epochs=1000\n",
    "for epoch in range(nb_epochs+1):\n",
    "    \n",
    "    prediction=model(x_train)\n",
    "    cost=F.mse_loss(prediction,y_train)\n",
    "    \n",
    "    optimizer.zero_grad()\n",
    "    cost.backward()\n",
    "    optimizer.step()\n",
    "    \n",
    "    if epoch%100==0:\n",
    "        \n",
    "        params=list(model.parameters())\n",
    "        \n",
    "        W=params[0].item()\n",
    "        b=params[1].item()\n",
    "        \n",
    "        print('Epoch {:4d}/{} W: {:.3f}, b: {:.3f} Cost: {:.6f}'.format(\n",
    "            epoch, nb_epochs, W, b, cost.item()\n",
    "        ))"
   ]
  }
 ],
 "metadata": {
  "kernelspec": {
   "display_name": "oi",
   "language": "python",
   "name": "oi"
  },
  "language_info": {
   "codemirror_mode": {
    "name": "ipython",
    "version": 3
   },
   "file_extension": ".py",
   "mimetype": "text/x-python",
   "name": "python",
   "nbconvert_exporter": "python",
   "pygments_lexer": "ipython3",
   "version": "3.9.13"
  }
 },
 "nbformat": 4,
 "nbformat_minor": 5
}
