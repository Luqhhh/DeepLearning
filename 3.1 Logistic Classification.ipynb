{
 "cells": [
  {
   "cell_type": "code",
   "execution_count": 1,
   "id": "f6429a22",
   "metadata": {},
   "outputs": [],
   "source": [
    "import torch\n",
    "import torch.nn as nn\n",
    "import torch.nn.functional as F\n",
    "import torch.optim as optim\n",
    "import numpy as np"
   ]
  },
  {
   "cell_type": "code",
   "execution_count": 2,
   "id": "1b20adc0",
   "metadata": {},
   "outputs": [
    {
     "data": {
      "text/plain": [
       "<torch._C.Generator at 0x2299bb9b350>"
      ]
     },
     "execution_count": 2,
     "metadata": {},
     "output_type": "execute_result"
    }
   ],
   "source": [
    "torch.manual_seed(1)"
   ]
  },
  {
   "cell_type": "code",
   "execution_count": 3,
   "id": "3347397b",
   "metadata": {},
   "outputs": [],
   "source": [
    "x_data = [[1, 2], [2, 3], [3, 1], [4, 3], [5, 3], [6, 2]]\n",
    "y_data = [[0], [0], [0], [1], [1], [1]]"
   ]
  },
  {
   "cell_type": "code",
   "execution_count": 4,
   "id": "d6f43f4f",
   "metadata": {},
   "outputs": [
    {
     "name": "stdout",
     "output_type": "stream",
     "text": [
      "torch.Size([6, 2])\n",
      "torch.Size([6, 1])\n"
     ]
    }
   ],
   "source": [
    "x_train=torch.FloatTensor(x_data)\n",
    "y_train=torch.FloatTensor(y_data)\n",
    "print(x_train.shape)\n",
    "print(y_train.size())"
   ]
  },
  {
   "cell_type": "code",
   "execution_count": 5,
   "id": "1c7fd82f",
   "metadata": {},
   "outputs": [
    {
     "name": "stdout",
     "output_type": "stream",
     "text": [
      "tensor([2.7183])\n",
      "tensor([0.7311])\n"
     ]
    }
   ],
   "source": [
    "print(torch.exp(torch.FloatTensor([1])))#equals e^1\n",
    "print(torch.sigmoid(torch.FloatTensor([1])))#equals 1/(1+e^-1)"
   ]
  },
  {
   "cell_type": "code",
   "execution_count": 6,
   "id": "97708ad2",
   "metadata": {},
   "outputs": [],
   "source": [
    "W=torch.zeros((2,1),requires_grad=True)\n",
    "b=torch.zeros(1,requires_grad=True)"
   ]
  },
  {
   "cell_type": "markdown",
   "id": "67196d70",
   "metadata": {},
   "source": [
    "torch.exp()"
   ]
  },
  {
   "cell_type": "code",
   "execution_count": 7,
   "id": "3d2f7a83",
   "metadata": {},
   "outputs": [
    {
     "name": "stdout",
     "output_type": "stream",
     "text": [
      "tensor([[0.5000],\n",
      "        [0.5000],\n",
      "        [0.5000],\n",
      "        [0.5000],\n",
      "        [0.5000],\n",
      "        [0.5000]], grad_fn=<MulBackward0>)\n",
      "torch.Size([6, 1])\n"
     ]
    }
   ],
   "source": [
    "hypothesis=1/(1+torch.exp(-(x_train.matmul(W)+b)))\n",
    "print(hypothesis)\n",
    "print(hypothesis.shape)"
   ]
  },
  {
   "cell_type": "markdown",
   "id": "823bc493",
   "metadata": {},
   "source": [
    "torch.sigmoid"
   ]
  },
  {
   "cell_type": "code",
   "execution_count": 8,
   "id": "1c09eb12",
   "metadata": {},
   "outputs": [
    {
     "name": "stdout",
     "output_type": "stream",
     "text": [
      "tensor([[0.5000],\n",
      "        [0.5000],\n",
      "        [0.5000],\n",
      "        [0.5000],\n",
      "        [0.5000],\n",
      "        [0.5000]], grad_fn=<SigmoidBackward0>)\n"
     ]
    }
   ],
   "source": [
    "hypothesis=torch.sigmoid(x_train.matmul(W)+b)\n",
    "print(hypothesis)"
   ]
  },
  {
   "cell_type": "code",
   "execution_count": 9,
   "id": "93a86fb3",
   "metadata": {},
   "outputs": [
    {
     "name": "stdout",
     "output_type": "stream",
     "text": [
      "tensor([-0.6931], grad_fn=<AddBackward0>)\n",
      "tensor([[-0.6931],\n",
      "        [-0.6931],\n",
      "        [-0.6931],\n",
      "        [ 0.6931],\n",
      "        [ 0.6931],\n",
      "        [ 0.6931]], grad_fn=<AddBackward0>)\n"
     ]
    }
   ],
   "source": [
    "losses_1=-(y_train[0]*torch.log(hypothesis[0]))+(1-y_train[0])*torch.log(1-hypothesis[0])\n",
    "print(losses_1)\n",
    "losses=-(y_train*torch.log(hypothesis))+(1-y_train)*torch.log(1-hypothesis)\n",
    "print(losses)"
   ]
  },
  {
   "cell_type": "code",
   "execution_count": 10,
   "id": "5dcdbec3",
   "metadata": {},
   "outputs": [
    {
     "name": "stdout",
     "output_type": "stream",
     "text": [
      "tensor([0.], grad_fn=<MeanBackward1>)\n",
      "tensor(0., grad_fn=<MeanBackward0>)\n"
     ]
    }
   ],
   "source": [
    "cost = losses.mean()\n",
    "cost_1=losses.mean(dim=0)\n",
    "print(cost_1)\n",
    "print(cost)"
   ]
  },
  {
   "cell_type": "code",
   "execution_count": 11,
   "id": "f21ba622",
   "metadata": {},
   "outputs": [
    {
     "data": {
      "text/plain": [
       "tensor(0.6931, grad_fn=<BinaryCrossEntropyBackward0>)"
      ]
     },
     "execution_count": 11,
     "metadata": {},
     "output_type": "execute_result"
    }
   ],
   "source": [
    "F.binary_cross_entropy(hypothesis,y_train)"
   ]
  },
  {
   "cell_type": "markdown",
   "id": "4ae1e76e",
   "metadata": {},
   "source": [
    "1"
   ]
  },
  {
   "cell_type": "code",
   "execution_count": null,
   "id": "b7b803bd",
   "metadata": {},
   "outputs": [],
   "source": [
    "xy = np.loadtxt('data-03-diabetes.csv', delimiter=',', dtype=np.float32)\n",
    "x_data = xy[:, 0:-1]\n",
    "y_data = xy[:, [-1]]\n",
    "x_train = torch.FloatTensor(x_data)\n",
    "y_train = torch.FloatTensor(y_data)"
   ]
  },
  {
   "cell_type": "code",
   "execution_count": null,
   "id": "fcddd1fa",
   "metadata": {},
   "outputs": [],
   "source": [
    "print(x_train[0:5])\n",
    "print(y_train[0:5])"
   ]
  },
  {
   "cell_type": "code",
   "execution_count": null,
   "id": "e627f801",
   "metadata": {},
   "outputs": [],
   "source": [
    "W=torch.randn([8,1],requires_grad=True)\n",
    "b=torch.randn(1,requires_grad=True)\n",
    "optimizer=optim.Adam([W,b],lr=1)\n",
    "nb_epochs=100\n",
    "for epoch in range(nb_epochs+1):\n",
    "    hypothesis=torch.sigmoid(x_train.matmul(W)+b)\n",
    "    cost=F.binary_cross_entropy(hypothesis,y_train)\n",
    "    \n",
    "    optimizer.zero_grad()\n",
    "    cost.backward()\n",
    "    optimizer.step()\n",
    "    \n",
    "    if epoch%10==0:\n",
    "        print(\"Epoch:{:4d}/{}Cost:{:.6f}\".format(\n",
    "            epoch,nb_epochs,cost.item()\n",
    "        ))"
   ]
  },
  {
   "cell_type": "code",
   "execution_count": null,
   "id": "1ee12789",
   "metadata": {},
   "outputs": [],
   "source": [
    "hypothesis=torch.sigmoid(x_train.matmul(W)+b)\n",
    "print(hypothesis[:5])\n",
    "prediction=hypothesis>=0.5\n",
    "print(prediction[:5])\n",
    "correct=prediction.float()==y_train\n",
    "print(correct[:5])\n",
    "accuracy=correct.sum().item()/len(correct)\n",
    "print(\"accuracy:{:2.2f}%\".format(\n",
    "    accuracy*100\n",
    "))"
   ]
  },
  {
   "cell_type": "markdown",
   "id": "1ab2f025",
   "metadata": {},
   "source": [
    "2"
   ]
  },
  {
   "cell_type": "code",
   "execution_count": null,
   "id": "243fbfeb",
   "metadata": {},
   "outputs": [],
   "source": [
    "class BinaryClassifier(nn.Module):\n",
    "    def __init__(self):\n",
    "        super().__init__()\n",
    "        self.linear=nn.Linear(8,1)\n",
    "        self.sigmoid=nn.Sigmoid()\n",
    "    def forward(self,x):\n",
    "        return self.sigmoid(self.linear(x))"
   ]
  },
  {
   "cell_type": "code",
   "execution_count": null,
   "id": "6803051e",
   "metadata": {},
   "outputs": [],
   "source": [
    "model=BinaryClassifier()\n",
    "\n",
    "optimizer=optim.SGD(model.parameters(),lr=1)\n",
    "nb_epochs=100\n",
    "for epoch in range(nb_epochs+1):\n",
    "    hypothesis=model(x_train)\n",
    "    cost = F.binary_cross_entropy(hypothesis, y_train)\n",
    "\n",
    "\n",
    "    optimizer.zero_grad()\n",
    "    cost.backward()\n",
    "    optimizer.step()\n",
    "    \n",
    "    if epoch % 10 == 0:\n",
    "        prediction = hypothesis >= torch.FloatTensor([0.5])\n",
    "        correct_prediction = prediction.float() == y_train\n",
    "        accuracy = correct_prediction.sum().item() / len(correct_prediction)\n",
    "        print('Epoch {:4d}/{} Cost: {:.6f} Accuracy {:2.2f}%'.format(\n",
    "            epoch, nb_epochs, cost.item(), accuracy * 100,\n",
    "        ))"
   ]
  },
  {
   "cell_type": "code",
   "execution_count": null,
   "id": "962ee874",
   "metadata": {},
   "outputs": [],
   "source": []
  }
 ],
 "metadata": {
  "kernelspec": {
   "display_name": "oi",
   "language": "python",
   "name": "oi"
  },
  "language_info": {
   "codemirror_mode": {
    "name": "ipython",
    "version": 3
   },
   "file_extension": ".py",
   "mimetype": "text/x-python",
   "name": "python",
   "nbconvert_exporter": "python",
   "pygments_lexer": "ipython3",
   "version": "3.9.13"
  }
 },
 "nbformat": 4,
 "nbformat_minor": 5
}
