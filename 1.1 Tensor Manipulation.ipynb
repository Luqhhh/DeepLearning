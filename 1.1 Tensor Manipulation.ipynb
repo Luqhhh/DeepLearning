{
 "cells": [
  {
   "cell_type": "code",
   "execution_count": 1,
   "id": "152778de",
   "metadata": {},
   "outputs": [],
   "source": [
    "import numpy as np\n",
    "import torch"
   ]
  },
  {
   "cell_type": "markdown",
   "id": "2a856348",
   "metadata": {},
   "source": [
    "# NumPy"
   ]
  },
  {
   "cell_type": "code",
   "execution_count": 2,
   "id": "08c79cde",
   "metadata": {},
   "outputs": [
    {
     "name": "stdout",
     "output_type": "stream",
     "text": [
      "[1 2 3 4 5 6]\n"
     ]
    }
   ],
   "source": [
    "t=np.array([1,2,3,4,5,6])\n",
    "print(t)"
   ]
  },
  {
   "cell_type": "code",
   "execution_count": null,
   "id": "dbae9308",
   "metadata": {},
   "outputs": [],
   "source": [
    "print(f\"Rank of t:{t.ndim}\")\n",
    "print(f\"Shape of t:{t.shape}\")"
   ]
  },
  {
   "cell_type": "code",
   "execution_count": null,
   "id": "3af6d132",
   "metadata": {},
   "outputs": [],
   "source": [
    "print(f\"t[0],t[1],t[-1]={t[0]},{t[1]},{t[-1]}\")\n",
    "print(f\"t[2:5],t[4:-1]={t[2:5]},{t[4:-1]}\") #slicing\n",
    "print(f\"t[:2],t[3:]={t[:2]},{t[3:]}\")"
   ]
  },
  {
   "cell_type": "code",
   "execution_count": null,
   "id": "1e5f8e93",
   "metadata": {},
   "outputs": [],
   "source": [
    "t=np.array([[1,2,3],[2,3,4],[3,4,5],[4,5,6]])\n",
    "print(t)"
   ]
  },
  {
   "cell_type": "code",
   "execution_count": null,
   "id": "9e31c61d",
   "metadata": {},
   "outputs": [],
   "source": [
    "print(f\"Rank of t:{t.ndim}\")\n",
    "print(f\"Shape of t:{t.shape}\")"
   ]
  },
  {
   "cell_type": "markdown",
   "id": "3462ff91",
   "metadata": {},
   "source": [
    "# PyTorch"
   ]
  },
  {
   "cell_type": "code",
   "execution_count": null,
   "id": "24bb53b2",
   "metadata": {},
   "outputs": [],
   "source": [
    "t=torch.FloatTensor([1.,2.,3.,4.,5.,6.])\n",
    "print(t)"
   ]
  },
  {
   "cell_type": "code",
   "execution_count": null,
   "id": "68a6dca2",
   "metadata": {},
   "outputs": [],
   "source": [
    "print(t.dim())\n",
    "print(t.shape)\n",
    "print(t.size())\n",
    "print(t[0],t[1],t[-1])\n",
    "print(t[2:5],t[4:-1])\n",
    "print(t[2:],t[:3])"
   ]
  },
  {
   "cell_type": "code",
   "execution_count": null,
   "id": "5b234806",
   "metadata": {},
   "outputs": [],
   "source": [
    "t=torch.FloatTensor([[1,2,3],[2,3,4],[3,4,5],[4,5,6]])\n",
    "print(t)"
   ]
  },
  {
   "cell_type": "code",
   "execution_count": null,
   "id": "f2574560",
   "metadata": {},
   "outputs": [],
   "source": [
    "print(t.dim())\n",
    "print(t.shape)\n",
    "print(t.size())\n",
    "print(t[:,1])\n",
    "print(t[:,1].size())\n",
    "print(t[:,:-1])"
   ]
  },
  {
   "cell_type": "code",
   "execution_count": null,
   "id": "bdc00f9d",
   "metadata": {},
   "outputs": [],
   "source": [
    "t=torch.FloatTensor([[[[1,2,3,4],[5,6,7,8],[9,10,11,12]],[[13,14,15,16],[17,18,19,20],[21,22,23,24]]]])\n",
    "print(t.dim())\n",
    "print(t.size())"
   ]
  },
  {
   "cell_type": "markdown",
   "id": "f5b8a4e0",
   "metadata": {},
   "source": [
    "Mul&Matmul"
   ]
  },
  {
   "cell_type": "code",
   "execution_count": null,
   "id": "5237ccc0",
   "metadata": {},
   "outputs": [],
   "source": [
    "m1=torch.FloatTensor([[1,2],[2,3]])\n",
    "m2=torch.FloatTensor([[1],[2]])\n",
    "print(m1.mul(m2))\n",
    "print(m1.matmul(m2))#torch.mm(m1,m2),m1@m2 (批量)torch.bmm()\n",
    "print(m1*m2)#Hadamard乘积"
   ]
  },
  {
   "cell_type": "markdown",
   "id": "33aebf48",
   "metadata": {},
   "source": [
    "In-place Operatiion"
   ]
  },
  {
   "cell_type": "code",
   "execution_count": null,
   "id": "0320459a",
   "metadata": {},
   "outputs": [],
   "source": [
    "t=torch.FloatTensor([[1,2],[3,4]])\n",
    "print(t.mul(2.))\n",
    "print(t)\n",
    "print(t.mul_(2.))\n",
    "print(t)"
   ]
  },
  {
   "cell_type": "markdown",
   "id": "1e721506",
   "metadata": {},
   "source": [
    "Broadcast\n",
    "\n",
    "总结广播的规则：\n",
    "\n",
    "维度扩展：如果两个张量的维度不同，PyTorch 会尝试通过在较小的张量前面添加维度（或增加维度大小）来对齐它们。\n",
    "\n",
    "维度对齐：当两个张量在某一维度的大小不同，但其中一个维度大小为 1 时，PyTorch 会将它扩展为与另一个张量的相同大小。这称为“广播”。\n",
    "\n",
    "规则：如果两个张量的维度和大小都不匹配，并且其中一个维度大小为 1，PyTorch 会自动进行广播，或者抛出错误。"
   ]
  },
  {
   "cell_type": "code",
   "execution_count": null,
   "id": "2af56b46",
   "metadata": {},
   "outputs": [],
   "source": [
    "m1=torch.FloatTensor([1,2])\n",
    "m2=torch.FloatTensor([2,1])\n",
    "print(m1+m2)"
   ]
  },
  {
   "cell_type": "code",
   "execution_count": null,
   "id": "2695e288",
   "metadata": {},
   "outputs": [],
   "source": [
    "m1=torch.FloatTensor([1,2])\n",
    "m2=torch.FloatTensor([2])\n",
    "print(m1+m2)#vector+scaler"
   ]
  },
  {
   "cell_type": "code",
   "execution_count": null,
   "id": "872d83f1",
   "metadata": {},
   "outputs": [],
   "source": [
    "m1=torch.FloatTensor([1,2])\n",
    "m2=torch.FloatTensor([[3],[4]])\n",
    "print(m1+m2)"
   ]
  },
  {
   "cell_type": "markdown",
   "id": "54acc8fd",
   "metadata": {},
   "source": [
    "Mean"
   ]
  },
  {
   "cell_type": "code",
   "execution_count": null,
   "id": "4e22cca1",
   "metadata": {},
   "outputs": [],
   "source": [
    "t=torch.FloatTensor([[1,2],[3,4]])\n",
    "print(t.mean())\n",
    "print(t.mean(dim=1))\n",
    "print(t.mean(dim=-1))\n",
    "print(t.mean(dim=0))"
   ]
  },
  {
   "cell_type": "code",
   "execution_count": null,
   "id": "fe01111b",
   "metadata": {},
   "outputs": [],
   "source": [
    "t=torch.LongTensor([[1,2],[3,4]])\n",
    "try:\n",
    "    print(t.mean())\n",
    "except Exception as exc: #Exception 是 Python 中所有异常的基类，也就是说，它会捕获所有类型的异常\n",
    "    print(exc)"
   ]
  },
  {
   "cell_type": "markdown",
   "id": "01161d7c",
   "metadata": {},
   "source": [
    "Sum"
   ]
  },
  {
   "cell_type": "code",
   "execution_count": null,
   "id": "66bf9285",
   "metadata": {},
   "outputs": [],
   "source": [
    "t=torch.FloatTensor([[1,2],[3,4]])\n",
    "print(t.sum())\n",
    "print(t.sum(dim=0))\n",
    "print(t.sum(dim=1))\n",
    "print(t.sum(dim=-1))"
   ]
  },
  {
   "cell_type": "markdown",
   "id": "fb49384e",
   "metadata": {},
   "source": [
    "Max&Argmax"
   ]
  },
  {
   "cell_type": "code",
   "execution_count": null,
   "id": "2a5ba81a",
   "metadata": {},
   "outputs": [],
   "source": [
    "m=torch.FloatTensor([[1,2],[3,4]])\n",
    "print(m.max())\n",
    "print(m.max(dim=0))"
   ]
  },
  {
   "cell_type": "code",
   "execution_count": null,
   "id": "891a8ffb",
   "metadata": {},
   "outputs": [],
   "source": [
    "print(f\"Max:{m.max(dim=0)[0]}\")\n",
    "print(f\"Argmax:{m.max(dim=0)[1]}\")"
   ]
  },
  {
   "cell_type": "code",
   "execution_count": null,
   "id": "37f0df82",
   "metadata": {},
   "outputs": [],
   "source": [
    "print(m.max(dim=1))\n",
    "print(m.max(dim=-1))"
   ]
  },
  {
   "cell_type": "markdown",
   "id": "2f53592b",
   "metadata": {},
   "source": [
    "View"
   ]
  },
  {
   "cell_type": "code",
   "execution_count": null,
   "id": "bc9c6bfc",
   "metadata": {},
   "outputs": [],
   "source": [
    "t=torch.FloatTensor([[[1,2,3],[2,3,4],[3,4,5]],[[4,5,6],[5,6,7],[6,7,8]],[[7,8,9],[8,9,10],[9,10,11]]])\n",
    "print(t.size())"
   ]
  },
  {
   "cell_type": "code",
   "execution_count": null,
   "id": "76457875",
   "metadata": {},
   "outputs": [],
   "source": [
    "print(t.view([-1,3]))\n",
    "print(t.view([-1,3]).shape)\n",
    "print(t.view([-1,1,9]))\n",
    "print(t.view([-1,1,9]).shape)"
   ]
  },
  {
   "cell_type": "markdown",
   "id": "c1d66ac6",
   "metadata": {},
   "source": [
    "Squeeze&Unsqueeze"
   ]
  },
  {
   "cell_type": "code",
   "execution_count": null,
   "id": "d07d8879",
   "metadata": {},
   "outputs": [],
   "source": [
    "t=torch.FloatTensor([1,2,3])\n",
    "print(t.shape)"
   ]
  },
  {
   "cell_type": "code",
   "execution_count": null,
   "id": "d1b843a0",
   "metadata": {},
   "outputs": [],
   "source": [
    "t=torch.FloatTensor([[1],[2],[3]])\n",
    "print(t.shape)\n",
    "print(t.squeeze())#去除张量中所有维度为 1 的轴。\n",
    "print(t.squeeze().shape)"
   ]
  },
  {
   "cell_type": "code",
   "execution_count": null,
   "id": "88a9b960",
   "metadata": {},
   "outputs": [],
   "source": [
    "t=torch.FloatTensor([1,2,3])\n",
    "print(t.size())\n",
    "print(t.unsqueeze(0))#在指定位置插入大小为 1 的维度。\n",
    "print(t.unsqueeze(0).shape)"
   ]
  },
  {
   "cell_type": "code",
   "execution_count": null,
   "id": "8d9d3f14",
   "metadata": {},
   "outputs": [],
   "source": [
    "print(t.unsqueeze(1))\n",
    "print(t.unsqueeze(1).shape)"
   ]
  },
  {
   "cell_type": "code",
   "execution_count": null,
   "id": "dfed8c56",
   "metadata": {},
   "outputs": [],
   "source": [
    "print(t.unsqueeze(-1))\n",
    "print(t.unsqueeze(-1).shape)"
   ]
  },
  {
   "cell_type": "markdown",
   "id": "913d1fe6",
   "metadata": {},
   "source": [
    "Scatter"
   ]
  },
  {
   "cell_type": "code",
   "execution_count": null,
   "id": "df79d85b",
   "metadata": {},
   "outputs": [],
   "source": [
    "lt=torch.LongTensor([[0],[1],[2],[0]])\n",
    "print(lt)\n",
    "one_hot=torch.zeros(4,3)\n",
    "one_hot.scatter_(1,lt,2)\n",
    "print(one_hot)"
   ]
  },
  {
   "cell_type": "markdown",
   "id": "1528585b",
   "metadata": {},
   "source": [
    "Casting"
   ]
  },
  {
   "cell_type": "markdown",
   "id": "9a916b55",
   "metadata": {},
   "source": [
    "常见的类型转换函数：\n",
    ".float()：将张量转换为 FloatTensor（32 位浮点型）。\n",
    "\n",
    ".double()：将张量转换为 DoubleTensor（64 位浮点型）。\n",
    "\n",
    ".long()：将张量转换为 LongTensor（64 位整数型）。\n",
    "\n",
    ".int()：将张量转换为 IntTensor（32 位整数型）。\n",
    "\n",
    ".byte()：将张量转换为 ByteTensor（8 位无符号整数型）。\n",
    "\n",
    ".short()：将张量转换为 ShortTensor（16 位整数型）。\n",
    "\n",
    "为什么需要类型转换？\n",
    "\n",
    "数值精度：不同的类型有不同的数值精度（例如，float32 与 int64）。有时需要转换为更高或更低精度的数据类型，以适应计算需求或优化内存使用。\n",
    "\n",
    "计算需求：某些操作或函数仅支持特定的数据类型。例如，某些函数可能仅支持 float 类型输入，不能直接接受 int 类型的张量。\n",
    "\n",
    "布尔值处理：布尔值在 PyTorch 中通常是以 1（True）和 0（False）表示，可以通过类型转换来进行数学运算。"
   ]
  },
  {
   "cell_type": "code",
   "execution_count": null,
   "id": "aab500c3",
   "metadata": {},
   "outputs": [],
   "source": [
    "lt=torch.LongTensor([1,2,3,4])\n",
    "print(lt)\n",
    "print(lt.float())"
   ]
  },
  {
   "cell_type": "code",
   "execution_count": null,
   "id": "d01f0fbd",
   "metadata": {},
   "outputs": [],
   "source": [
    "bt=torch.ByteTensor([True,False,True,False])\n",
    "print(bt)\n",
    "print(bt.shape)\n",
    "print(bt.long())\n",
    "print(bt.float())"
   ]
  },
  {
   "cell_type": "markdown",
   "id": "bea81b08",
   "metadata": {},
   "source": [
    "Concatenation"
   ]
  },
  {
   "cell_type": "code",
   "execution_count": null,
   "id": "97713d04",
   "metadata": {},
   "outputs": [],
   "source": [
    "t1=torch.FloatTensor([[1,2],[3,4]])\n",
    "t2=torch.FloatTensor([[5,6],[7,8]])\n",
    "print(torch.cat([t1,t2],dim=0))\n",
    "print(torch.cat([t1,t2],dim=0).shape)\n",
    "print(torch.cat([t1,t2],dim=1))\n",
    "print(torch.cat([t1,t2],dim=1).shape)"
   ]
  },
  {
   "cell_type": "markdown",
   "id": "7396474c",
   "metadata": {},
   "source": [
    "Stack"
   ]
  },
  {
   "cell_type": "code",
   "execution_count": null,
   "id": "caf48f38",
   "metadata": {},
   "outputs": [],
   "source": [
    "t1=torch.FloatTensor([1,2])\n",
    "t2=torch.FloatTensor([2,3])\n",
    "t3=torch.FloatTensor([3,4])\n",
    "print(t1.size())\n",
    "print(torch.stack([t1,t2,t3],dim=0))\n",
    "print(torch.stack([t1,t2,t3],dim=0).shape)\n",
    "print(torch.stack([t1,t2,t3],dim=1))\n",
    "print(torch.stack([t1,t2,t3],dim=1).shape)"
   ]
  },
  {
   "cell_type": "markdown",
   "id": "03265a9a",
   "metadata": {},
   "source": [
    "Comparison of Concatenation and Stacking\n",
    "\n",
    "拼接：torch.cat 不会新增维度，只在已有维度上扩展，形状的某个轴增加。\n",
    "\n",
    "堆叠：torch.stack 会新增一个维度，将多个张量堆叠在这个新轴上。"
   ]
  },
  {
   "cell_type": "code",
   "execution_count": null,
   "id": "5d44cba3",
   "metadata": {},
   "outputs": [],
   "source": [
    "print(torch.cat([t1.unsqueeze(0),t2.unsqueeze(0),t3.unsqueeze(0)],dim=0))\n",
    "print(torch.cat([t1.unsqueeze(0),t2.unsqueeze(0),t3.unsqueeze(0)],dim=0).shape)\n",
    "print(torch.cat([t1.unsqueeze(1),t2.unsqueeze(1),t3.unsqueeze(1)],dim=1))\n",
    "print(torch.cat([t1.unsqueeze(1),t2.unsqueeze(1),t3.unsqueeze(1)],dim=1).shape)"
   ]
  },
  {
   "cell_type": "markdown",
   "id": "3733c93e",
   "metadata": {},
   "source": [
    "Zeros and Ones like"
   ]
  },
  {
   "cell_type": "code",
   "execution_count": null,
   "id": "5f7afefd",
   "metadata": {},
   "outputs": [],
   "source": [
    "t=torch.IntTensor([[1,2,3],[4,5,6],[7,8,9]])\n",
    "print(t)\n",
    "print(torch.ones_like(t))\n",
    "print(torch.zeros_like(t))"
   ]
  },
  {
   "cell_type": "markdown",
   "id": "b3a0fd67",
   "metadata": {},
   "source": [
    "Zip"
   ]
  },
  {
   "cell_type": "code",
   "execution_count": null,
   "id": "aa43681e",
   "metadata": {},
   "outputs": [],
   "source": [
    "for x,y,z in zip([1,2,3],[2,3,4],[3,4,5]):\n",
    "    print(x,y,z)\n",
    "for x,y in zip([1,2,3],[2,3,4]):\n",
    "    print(x,y)"
   ]
  },
  {
   "cell_type": "code",
   "execution_count": null,
   "id": "b38ba227",
   "metadata": {},
   "outputs": [],
   "source": []
  }
 ],
 "metadata": {
  "kernelspec": {
   "display_name": "oi",
   "language": "python",
   "name": "oi"
  },
  "language_info": {
   "codemirror_mode": {
    "name": "ipython",
    "version": 3
   },
   "file_extension": ".py",
   "mimetype": "text/x-python",
   "name": "python",
   "nbconvert_exporter": "python",
   "pygments_lexer": "ipython3",
   "version": "3.9.13"
  }
 },
 "nbformat": 4,
 "nbformat_minor": 5
}
