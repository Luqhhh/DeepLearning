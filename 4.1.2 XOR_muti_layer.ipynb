{
 "cells": [
  {
   "cell_type": "code",
   "execution_count": 1,
   "id": "a941acae",
   "metadata": {},
   "outputs": [],
   "source": [
    "import torch"
   ]
  },
  {
   "cell_type": "code",
   "execution_count": 2,
   "id": "54ad1647",
   "metadata": {},
   "outputs": [],
   "source": [
    "device='cuda'if torch.cuda.is_available()else 'cpu'\n",
    "torch.manual_seed(1)\n",
    "if device=='cuda':\n",
    "    torch.cuda.manual_seed_all(1)"
   ]
  },
  {
   "cell_type": "code",
   "execution_count": 3,
   "id": "d5ef69f0",
   "metadata": {},
   "outputs": [],
   "source": [
    "x=torch.FloatTensor([[1,0],[1,1],[0,1],[0,0]]).to(device)\n",
    "y=torch.FloatTensor([[1],[0],[1],[0]]).to(device)"
   ]
  },
  {
   "cell_type": "code",
   "execution_count": 20,
   "id": "14c91494",
   "metadata": {},
   "outputs": [],
   "source": [
    "linear1=torch.nn.Linear(2,10,bias=True)\n",
    "linear2=torch.nn.Linear(10,10,bias=True)\n",
    "linear3=torch.nn.Linear(10,10,bias=True)\n",
    "linear4=torch.nn.Linear(10,1,bias=True)\n",
    "sigmoid=torch.nn.Sigmoid()"
   ]
  },
  {
   "cell_type": "code",
   "execution_count": 21,
   "id": "a3ef565a",
   "metadata": {},
   "outputs": [],
   "source": [
    "model=torch.nn.Sequential(linear1,sigmoid,linear2,sigmoid,linear3,sigmoid,linear4,sigmoid).to(device)"
   ]
  },
  {
   "cell_type": "code",
   "execution_count": 22,
   "id": "61388172",
   "metadata": {},
   "outputs": [],
   "source": [
    "criterion=torch.nn.BCELoss().to(device)\n",
    "optimizer=torch.optim.SGD(model.parameters(),lr=1)"
   ]
  },
  {
   "cell_type": "code",
   "execution_count": 23,
   "id": "1b677d56",
   "metadata": {},
   "outputs": [
    {
     "name": "stdout",
     "output_type": "stream",
     "text": [
      "Step:   0Cost:0.701390\n",
      "Step:1000Cost:0.693122\n",
      "Step:2000Cost:0.693076\n",
      "Step:3000Cost:0.692789\n",
      "Step:4000Cost:0.028702\n",
      "Step:5000Cost:0.000787\n",
      "Step:6000Cost:0.000370\n",
      "Step:7000Cost:0.000238\n",
      "Step:8000Cost:0.000174\n",
      "Step:9000Cost:0.000137\n",
      "Step:10000Cost:0.000113\n"
     ]
    }
   ],
   "source": [
    "for step in range(10001):\n",
    "    hypothesis=model(x)\n",
    "    cost=criterion(hypothesis,y)\n",
    "    \n",
    "    optimizer.zero_grad()\n",
    "    cost.backward()\n",
    "    optimizer.step()\n",
    "    \n",
    "    if step%1000==0:\n",
    "        print(\"Step:{:4d}Cost:{:.6f}\".format(step,cost.item()))"
   ]
  },
  {
   "cell_type": "code",
   "execution_count": 24,
   "id": "5f1c5d3f",
   "metadata": {},
   "outputs": [
    {
     "name": "stdout",
     "output_type": "stream",
     "text": [
      "Hypothesis: [[9.9989450e-01]\n",
      " [1.3213846e-04]\n",
      " [9.9988413e-01]\n",
      " [9.6556469e-05]] \n",
      "Correct: [[1.]\n",
      " [0.]\n",
      " [1.]\n",
      " [0.]] \n",
      "Accuracy: 1.0\n"
     ]
    }
   ],
   "source": [
    "with torch.no_grad():\n",
    "    hypothesis=model(x)\n",
    "    predicted=(hypothesis>0.5).float()\n",
    "    accuracy=(predicted==y).float().mean()\n",
    "    print('Hypothesis:',hypothesis.detach().cpu().numpy(),'\\nCorrect:',predicted.detach().cpu().numpy(),'\\nAccuracy:',accuracy.item())"
   ]
  },
  {
   "cell_type": "code",
   "execution_count": null,
   "id": "6f937d62",
   "metadata": {},
   "outputs": [],
   "source": []
  }
 ],
 "metadata": {
  "kernelspec": {
   "display_name": "oi",
   "language": "python",
   "name": "oi"
  },
  "language_info": {
   "codemirror_mode": {
    "name": "ipython",
    "version": 3
   },
   "file_extension": ".py",
   "mimetype": "text/x-python",
   "name": "python",
   "nbconvert_exporter": "python",
   "pygments_lexer": "ipython3",
   "version": "3.9.13"
  }
 },
 "nbformat": 4,
 "nbformat_minor": 5
}
