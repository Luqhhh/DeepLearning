{
 "cells": [
  {
   "cell_type": "code",
   "execution_count": null,
   "id": "db24f4f9",
   "metadata": {},
   "outputs": [],
   "source": [
    "import torch\n",
    "import torch.nn as nn\n",
    "import torch.nn.functional as F\n",
    "import torch.optim as optim"
   ]
  },
  {
   "cell_type": "code",
   "execution_count": null,
   "id": "7a9c252e",
   "metadata": {},
   "outputs": [],
   "source": [
    "torch.manual_seed(1)"
   ]
  },
  {
   "cell_type": "markdown",
   "id": "b411a7b7",
   "metadata": {},
   "source": [
    "Naive Data Representation"
   ]
  },
  {
   "cell_type": "code",
   "execution_count": null,
   "id": "f8d6e4a8",
   "metadata": {},
   "outputs": [],
   "source": [
    "x1_train = torch.FloatTensor([[73], [93], [89], [96], [73]])\n",
    "x2_train = torch.FloatTensor([[80], [88], [91], [98], [66]])\n",
    "x3_train = torch.FloatTensor([[75], [93], [90], [100], [70]])\n",
    "y_train = torch.FloatTensor([[152], [185], [180], [196], [142]])"
   ]
  },
  {
   "cell_type": "code",
   "execution_count": null,
   "id": "7042694b",
   "metadata": {},
   "outputs": [],
   "source": [
    "w1=torch.zeros(1,requires_grad=True)\n",
    "w2=torch.zeros(1,requires_grad=True)\n",
    "w3=torch.zeros(1,requires_grad=True)\n",
    "b=torch.zeros(1,requires_grad=True)\n",
    "\n",
    "optimizer=optim.SGD([w1,w2,w3,b],lr=1e-5)\n",
    "\n",
    "nb_epochs=1000\n",
    "for epoch in range(nb_epochs+1):\n",
    "    hypothesis=x1_train*w1+x2_train*w2+x3_train*w3+b\n",
    "    cost=torch.mean((hypothesis-y_train)**2)\n",
    "    \n",
    "    optimizer.zero_grad()\n",
    "    cost.backward()\n",
    "    optimizer.step()\n",
    "    if epoch%100==0:\n",
    "        print(\"Epoch {:4d}/{} w1: {:.3f} w2: {:.3f} w3: {:.3f} b: {:.3f} Cost{:.6f}\".format(\n",
    "             epoch,nb_epochs,w1.item(),w2.item(),w3.item(),b.item(),cost.item()\n",
    "        ))"
   ]
  },
  {
   "cell_type": "markdown",
   "id": "b2f41be7",
   "metadata": {},
   "source": [
    "Matrix Data Representation"
   ]
  },
  {
   "cell_type": "code",
   "execution_count": null,
   "id": "30f4f39f",
   "metadata": {},
   "outputs": [],
   "source": [
    "x_train=torch.FloatTensor([[73,80,75],[93,88,93],[89,91,90],[96,98,100],[73,66,70]])\n",
    "y_train=torch.FloatTensor([[152],[185],[180],[196],[142]])"
   ]
  },
  {
   "cell_type": "code",
   "execution_count": null,
   "id": "9945e98f",
   "metadata": {},
   "outputs": [],
   "source": [
    "W=torch.zeros((3,1),requires_grad=True)\n",
    "b=torch.zeros(1,requires_grad=True)\n",
    "\n",
    "optimizer=optim.SGD([W,b],lr=1e-5)\n",
    "\n",
    "nb_epochs=1000\n",
    "for epoch in range(nb_epochs+1):\n",
    "    hypothesis=x_train.matmul(W)+b\n",
    "    cost=torch.mean((hypothesis-y_train)**2)\n",
    "    \n",
    "    optimizer.zero_grad()\n",
    "    cost.backward()\n",
    "    optimizer.step()\n",
    "    if epoch%100==0:\n",
    "        print(\"Epoch {:4d}/{} w1: {:.3f} w2: {:.3f} w3: {:.3f} b: {:.3f} Cost{:.6f}\".format(\n",
    "             epoch,nb_epochs,w1.item(),w2.item(),w3.item(),b.item(),cost.item()\n",
    "        ))"
   ]
  }
 ],
 "metadata": {
  "kernelspec": {
   "display_name": "oi",
   "language": "python",
   "name": "oi"
  },
  "language_info": {
   "codemirror_mode": {
    "name": "ipython",
    "version": 3
   },
   "file_extension": ".py",
   "mimetype": "text/x-python",
   "name": "python",
   "nbconvert_exporter": "python",
   "pygments_lexer": "ipython3",
   "version": "3.9.13"
  }
 },
 "nbformat": 4,
 "nbformat_minor": 5
}
