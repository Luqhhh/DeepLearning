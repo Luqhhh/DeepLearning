{
 "cells": [
  {
   "cell_type": "code",
   "execution_count": 1,
   "id": "8183d7e0",
   "metadata": {},
   "outputs": [],
   "source": [
    "import numpy as np\n",
    "\n",
    "# 定义数据（示例数据）\n",
    "data = np.array([\n",
    "    [73, 80, 75, 152],\n",
    "    [93, 88, 93, 185],\n",
    "    [89, 91, 90, 180],\n",
    "    [96, 98, 100, 196],\n",
    "    [73, 66, 70, 142]\n",
    "])\n",
    "\n",
    "# 保存为 CSV 文件\n",
    "np.savetxt('data-01-test-score.csv', data, delimiter=',', fmt='%d')\n"
   ]
  }
 ],
 "metadata": {
  "kernelspec": {
   "display_name": "oi",
   "language": "python",
   "name": "oi"
  },
  "language_info": {
   "codemirror_mode": {
    "name": "ipython",
    "version": 3
   },
   "file_extension": ".py",
   "mimetype": "text/x-python",
   "name": "python",
   "nbconvert_exporter": "python",
   "pygments_lexer": "ipython3",
   "version": "3.9.13"
  }
 },
 "nbformat": 4,
 "nbformat_minor": 5
}
