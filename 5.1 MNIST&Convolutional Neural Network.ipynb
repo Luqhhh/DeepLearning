{
 "cells": [
  {
   "cell_type": "markdown",
   "id": "8de6ecf2",
   "metadata": {},
   "source": [
    "在 PyTorch 中，神经网络接受的输入张量格式一般是 (N, C, H, W)，其中：\n",
    "\n",
    "N：批量大小（Batch Size），代表一次输入多少张图像。\n",
    "\n",
    "C：通道数（Channel），对于灰度图为1，对于彩色图一般为3（红、绿、蓝）。\n",
    "\n",
    "H：图像高度（Height）。\n",
    "\n",
    "W：图像宽度（Width）。"
   ]
  },
  {
   "cell_type": "code",
   "execution_count": 1,
   "id": "5a71de8e",
   "metadata": {},
   "outputs": [],
   "source": [
    "import torch\n",
    "import torchvision.datasets as dsets\n",
    "import torchvision.transforms as transforms\n",
    "import torch.nn.init"
   ]
  },
  {
   "cell_type": "code",
   "execution_count": 2,
   "id": "cf1cbea5",
   "metadata": {},
   "outputs": [],
   "source": [
    "device='cuda'if torch.cuda.is_available()else 'cpu'\n",
    "torch.manual_seed(1)\n",
    "if device=='cuda':\n",
    "    torch.cuda.manual_seed_all(1)"
   ]
  },
  {
   "cell_type": "code",
   "execution_count": 3,
   "id": "9cc7d556",
   "metadata": {},
   "outputs": [],
   "source": [
    "learning_rate=0.003\n",
    "batch_size=100\n",
    "epochs=10"
   ]
  },
  {
   "cell_type": "code",
   "execution_count": 4,
   "id": "b03b6f09",
   "metadata": {},
   "outputs": [],
   "source": [
    "mnist_train=dsets.MNIST(root='Data/',\n",
    "                        train=True,\n",
    "                        transform=transforms.ToTensor(),\n",
    "                        download=True)\n",
    "mnist_test=dsets.MNIST(root='Data/',\n",
    "                        train=False,\n",
    "                        transform=transforms.ToTensor(),\n",
    "                        download=True)"
   ]
  },
  {
   "cell_type": "code",
   "execution_count": 5,
   "id": "28dd3518",
   "metadata": {},
   "outputs": [],
   "source": [
    "data_loader=torch.utils.data.DataLoader(dataset=mnist_train,\n",
    "                                        batch_size=batch_size,\n",
    "                                        shuffle=True,\n",
    "                                        drop_last=True)"
   ]
  },
  {
   "cell_type": "code",
   "execution_count": 6,
   "id": "b9f48314",
   "metadata": {},
   "outputs": [],
   "source": [
    "class CNN(torch.nn.Module):\n",
    "    def __init__(self):\n",
    "        super().__init__()\n",
    "        self.drop_prob=0.5\n",
    "        \n",
    "        self.layer1=torch.nn.Sequential(\n",
    "        torch.nn.Conv2d(1,32,kernel_size=3,stride=1,padding=1),\n",
    "        torch.nn.ReLU(),\n",
    "        torch.nn.MaxPool2d(kernel_size=2,stride=2))\n",
    "        # L1 ImgIn shape=(?, 1，28, 28,)\n",
    "        #    Conv     -> (?, 32，28, 28)\n",
    "        #    Pool     -> (?, 32，14, 14)\n",
    "        \n",
    "        self.layer2=torch.nn.Sequential(\n",
    "        torch.nn.Conv2d(32,64,kernel_size=3,stride=1,padding=1),\n",
    "        torch.nn.ReLU(),\n",
    "        torch.nn.MaxPool2d(kernel_size=2,stride=2))\n",
    "        # L2 ImgIn shape=(?, 32，14, 14,)\n",
    "        #    Conv      ->(?, 64，14, 14)\n",
    "        #    Pool      ->(?, 64，7, 7)\n",
    "        \n",
    "        self.layer3=torch.nn.Sequential(\n",
    "        torch.nn.Conv2d(64,128,kernel_size=3,stride=1,padding=1),\n",
    "        torch.nn.ReLU(),\n",
    "        torch.nn.MaxPool2d(kernel_size=2,stride=2,padding=1))\n",
    "        # L3 ImgIn shape=(?, 64, 7, 7)\n",
    "        # Conv         ->(?, 128, 7, 7)\n",
    "        # Pool         ->(?, 128, 4, 4)\n",
    "        \n",
    "        self.fc1=torch.nn.Linear(4*4*128,625,bias=True)\n",
    "        torch.nn.init.xavier_uniform_(self.fc1.weight)\n",
    "        self.layer4=torch.nn.Sequential(\n",
    "        self.fc1,\n",
    "        torch.nn.ReLU(),\n",
    "        torch.nn.Dropout(p=1-self.drop_prob))\n",
    "        \n",
    "        self.fc2=torch.nn.Linear(625,10,bias=True)\n",
    "        torch.nn.init.xavier_uniform_(self.fc2.weight)\n",
    "        \n",
    "    def forward(self,x):\n",
    "        out=self.layer1(x)\n",
    "        out=self.layer2(out)\n",
    "        out=self.layer3(out)\n",
    "        out=out.view(-1,4*4*128)\n",
    "        out=self.layer4(out)\n",
    "        out=self.fc2(out)\n",
    "        return out"
   ]
  },
  {
   "cell_type": "code",
   "execution_count": 7,
   "id": "babaf0b0",
   "metadata": {},
   "outputs": [],
   "source": [
    "model=CNN().to(device)"
   ]
  },
  {
   "cell_type": "code",
   "execution_count": 8,
   "id": "109b3c5f",
   "metadata": {},
   "outputs": [],
   "source": [
    "criterion=torch.nn.CrossEntropyLoss()## Softmax is internally computed.\n",
    "optimizer=torch.optim.Adam(model.parameters(),lr=learning_rate)"
   ]
  },
  {
   "cell_type": "markdown",
   "id": "4a9cf648",
   "metadata": {},
   "source": [
    "当你使用诸如 torchvision.transforms.ToTensor() 这样的工具时，\n",
    "图像数据会自动从常见的 (高, 宽, 通道) 格式\n",
    "转换为 PyTorch 所要求的 (通道, 高, 宽) 格式，\n",
    "\n",
    "并且在构建 DataLoader 时会把多张图片组合成一个批量，形成 (batch_size, 通道, 高, 宽) 的张量。"
   ]
  },
  {
   "cell_type": "code",
   "execution_count": null,
   "id": "82c2a302",
   "metadata": {},
   "outputs": [
    {
     "name": "stdout",
     "output_type": "stream",
     "text": [
      "[Epoch:   0],[Cost:0.164162651]\n",
      "[Epoch:   1],[Cost:0.054527536]\n",
      "[Epoch:   2],[Cost:0.042593956]\n",
      "[Epoch:   3],[Cost:0.036716606]\n"
     ]
    }
   ],
   "source": [
    "total_batch=len(data_loader)\n",
    "model.train()\n",
    "for epoch in range(epochs+1):\n",
    "    \n",
    "    avg_cost=0\n",
    "    for X,Y in data_loader:\n",
    "        \n",
    "        X=X.to(device)\n",
    "        Y=Y.to(device)\n",
    "        \n",
    "        hypothesis=model(X)\n",
    "        loss=criterion(hypothesis,Y)\n",
    "        optimizer.zero_grad()\n",
    "        loss.backward()\n",
    "        optimizer.step()\n",
    "        \n",
    "        avg_cost+=loss/total_batch\n",
    "    print(\"[Epoch:{:4d}],[Cost:{:.9f}]\".format(\n",
    "    epoch,avg_cost))\n",
    "    "
   ]
  },
  {
   "cell_type": "code",
   "execution_count": null,
   "id": "7807768f",
   "metadata": {},
   "outputs": [],
   "source": [
    "with torch.no_grad():\n",
    "    model.eval()\n",
    "    X=mnist_test.data.view(len(mnist_test),1,28,28).float().to(device)\n",
    "    Y=mnist_test.targets.to(device)\n",
    "    prediction=model(X)\n",
    "    correct_num=torch.argmax(prediction,1)==Y\n",
    "    accuracy=correct_num.float().mean()\n",
    "    print(\"Accuracy:{:4f}%\".format(accuracy.item()*100))"
   ]
  },
  {
   "cell_type": "code",
   "execution_count": null,
   "id": "0649a256",
   "metadata": {},
   "outputs": [],
   "source": []
  }
 ],
 "metadata": {
  "kernelspec": {
   "display_name": "oi",
   "language": "python",
   "name": "oi"
  },
  "language_info": {
   "codemirror_mode": {
    "name": "ipython",
    "version": 3
   },
   "file_extension": ".py",
   "mimetype": "text/x-python",
   "name": "python",
   "nbconvert_exporter": "python",
   "pygments_lexer": "ipython3",
   "version": "3.9.13"
  }
 },
 "nbformat": 4,
 "nbformat_minor": 5
}
