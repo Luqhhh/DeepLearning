{
 "cells": [
  {
   "cell_type": "code",
   "execution_count": null,
   "id": "1d4a2354",
   "metadata": {},
   "outputs": [],
   "source": [
    "import torch\n",
    "import torchvision.datasets as dsets#导入数据集模块，方便获取常用数据集（如 MNIST）\n",
    "import torchvision.transforms as transforms#导入图像预处理模块，用于对图像数据进行转换（如转为张量）"
   ]
  },
  {
   "cell_type": "code",
   "execution_count": null,
   "id": "6b8936d9",
   "metadata": {},
   "outputs": [],
   "source": [
    "device='cuda' if torch.cuda.is_available() else 'cpu'\n",
    "#Initiation & Shuffle\n",
    "torch.manual_seed(1)\n",
    "if device=='cuda':\n",
    "    torch.cuda.manual_seed_all(1)"
   ]
  },
  {
   "cell_type": "code",
   "execution_count": null,
   "id": "5f1c7701",
   "metadata": {},
   "outputs": [],
   "source": [
    "learning_rate=0.5\n",
    "batch_size=10"
   ]
  },
  {
   "cell_type": "code",
   "execution_count": null,
   "id": "f8477198",
   "metadata": {},
   "outputs": [],
   "source": [
    "mnist_train=dsets.MNIST(root='MNIST_data/',\n",
    "                        train=True,\n",
    "                        transform=transforms.ToTensor(),#将图像数据从 PIL 格式转换为张量，并归一化到 [0,1] 范围。\n",
    "                        download=True)\n",
    "mnist_test=dsets.MNIST(root='MNIST_data/',\n",
    "                       train=False,\n",
    "                       transform=transforms.ToTensor(),\n",
    "                       download=True)"
   ]
  },
  {
   "cell_type": "code",
   "execution_count": null,
   "id": "0294dfc3",
   "metadata": {},
   "outputs": [],
   "source": [
    "data_loader=torch.utils.data.DataLoader(dataset=mnist_train,\n",
    "                                        batch_size=batch_size,#每个批次包含 10 张图片\n",
    "                                        shuffle=True,\n",
    "                                        drop_last=True)"
   ]
  },
  {
   "cell_type": "code",
   "execution_count": null,
   "id": "68fe973e",
   "metadata": {},
   "outputs": [],
   "source": [
    "w1=torch.nn.Parameter(torch.Tensor(784,30)).to(device)\n",
    "b1=torch.nn.Parameter(torch.Tensor(30)).to(device)\n",
    "w2=torch.nn.Parameter(torch.Tensor(30,10)).to(device)\n",
    "b2=torch.nn.Parameter(torch.Tensor(10)).to(device)"
   ]
  },
  {
   "cell_type": "code",
   "execution_count": null,
   "id": "72206ecd",
   "metadata": {},
   "outputs": [],
   "source": [
    "#按正态分布对所有参数进行初始化\n",
    "torch.nn.init.normal_(w1)\n",
    "torch.nn.init.normal_(w2)\n",
    "torch.nn.init.normal_(b1)\n",
    "torch.nn.init.normal_(b2)"
   ]
  },
  {
   "cell_type": "code",
   "execution_count": null,
   "id": "67f16579",
   "metadata": {},
   "outputs": [],
   "source": [
    "def sigmoid(x):\n",
    "    return 1.0/(1.0+torch.exp(-x))\n",
    "    #return torch.div(torch.tensor(1),torch.add(torch.tensor(1),torch.exp(-x)))"
   ]
  },
  {
   "cell_type": "code",
   "execution_count": null,
   "id": "77e851ed",
   "metadata": {},
   "outputs": [],
   "source": [
    "def sigmoid_prime(x):\n",
    "    return sigmoid(x)*(1-sigmoid(x))#计算 Sigmoid 函数的导数，用于反向传播时梯度的计算"
   ]
  },
  {
   "cell_type": "code",
   "execution_count": null,
   "id": "87910bf1",
   "metadata": {},
   "outputs": [],
   "source": [
    "X_test=mnist_test.data.view(-1,28*28).float().to(device)[:1000]#只取测试集中的前 1000 个样本，便于快速评估模型性能。\n",
    "Y_test=mnist_test.targets.to(device)[:1000]\n",
    "\n",
    "i=0\n",
    "while not i==10000:\n",
    "    \n",
    "    for X,Y in data_loader:\n",
    "        i+=1\n",
    "        \n",
    "        # forward\n",
    "        X=X.view(-1,28*28).to(device)#将当前批次的图片展平为 (batch_size, 784) 的矩阵，并移动到设备。\n",
    "        Y=torch.zeros((batch_size,10)).scatter_(1,Y.unsqueeze(1),1).to(device)\n",
    "        l1=torch.add(torch.matmul(X,w1),b1)\n",
    "        a1=sigmoid(l1)\n",
    "        l2=torch.add(torch.matmul(a1,w2),b2)\n",
    "        a2=sigmoid(l2)\n",
    "        y_pred=sigmoid(l2)\n",
    "        \n",
    "        diff=y_pred-Y\n",
    "        \n",
    "        # Back prop (chain rule)\n",
    "        d_l2=diff*sigmoid_prime(l2)\n",
    "        d_b2=d_l2\n",
    "        d_w2=torch.matmul(torch.transpose(a1,0,1),d_l2)\n",
    "        \n",
    "        d_a1=torch.matmul(d_l2,torch.transpose(w2,0,1))\n",
    "        d_l1=d_a1*sigmoid_prime(l1)\n",
    "        d_b1=d_l1\n",
    "        d_w1=torch.matmul(torch.transpose(X,0,1),d_l1)\n",
    "        \n",
    "        #梯度下降法更新参数\n",
    "        w1=w1-learning_rate*d_w1\n",
    "        b1=b1-learning_rate*torch.mean(d_b1,0)\n",
    "        w2=w2-learning_rate*d_w2\n",
    "        b2=b2-learning_rate*torch.mean(d_b2,0)\n",
    "        \n",
    "        if i%1000==0:#测试评估\n",
    "            l1_test = torch.add(torch.matmul(X_test, w1), b1)\n",
    "            a1_test = sigmoid(l1_test)\n",
    "            l2_test = torch.add(torch.matmul(a1_test, w2), b2)\n",
    "            y_predict_test = sigmoid(l2_test)\n",
    "            num_correct = (Y_test == torch.argmax(y_predict_test, 1)).sum()\n",
    "            print(\"Test Accuracy: {:.2f}%\".format(num_correct.item() / Y_test.size(0) * 100))\n",
    "        if i==10000:\n",
    "            break\n",
    "            "
   ]
  },
  {
   "cell_type": "code",
   "execution_count": null,
   "id": "3e2a85a5",
   "metadata": {},
   "outputs": [],
   "source": []
  }
 ],
 "metadata": {
  "kernelspec": {
   "display_name": "oi",
   "language": "python",
   "name": "oi"
  },
  "language_info": {
   "codemirror_mode": {
    "name": "ipython",
    "version": 3
   },
   "file_extension": ".py",
   "mimetype": "text/x-python",
   "name": "python",
   "nbconvert_exporter": "python",
   "pygments_lexer": "ipython3",
   "version": "3.9.13"
  }
 },
 "nbformat": 4,
 "nbformat_minor": 5
}
