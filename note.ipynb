{
 "cells": [
  {
   "cell_type": "code",
   "execution_count": 1,
   "id": "53470336",
   "metadata": {},
   "outputs": [],
   "source": [
    "import torch"
   ]
  },
  {
   "cell_type": "markdown",
   "id": "b206b35a",
   "metadata": {},
   "source": [
    "Hadamard乘积（逐元素相乘）"
   ]
  },
  {
   "cell_type": "code",
   "execution_count": 3,
   "id": "94944812",
   "metadata": {},
   "outputs": [
    {
     "name": "stdout",
     "output_type": "stream",
     "text": [
      "torch.Size([3, 5])\n"
     ]
    }
   ],
   "source": [
    "A=torch.rand([3,5])\n",
    "B=torch.rand([3,5])\n",
    "C=A*B\n",
    "print(C.shape)"
   ]
  },
  {
   "cell_type": "markdown",
   "id": "3f7fc872",
   "metadata": {},
   "source": [
    "矩阵乘法"
   ]
  },
  {
   "cell_type": "code",
   "execution_count": 5,
   "id": "de283567",
   "metadata": {},
   "outputs": [
    {
     "name": "stdout",
     "output_type": "stream",
     "text": [
      "torch.Size([3, 4])\n"
     ]
    }
   ],
   "source": [
    "A=torch.rand(3,5)\n",
    "B=torch.rand(5,4)\n",
    "C=torch.mm(A,B)# A @ B\n",
    "print(C.shape)"
   ]
  },
  {
   "cell_type": "markdown",
   "id": "63762536",
   "metadata": {},
   "source": [
    "批量矩阵乘法"
   ]
  },
  {
   "cell_type": "code",
   "execution_count": 6,
   "id": "95e61630",
   "metadata": {},
   "outputs": [
    {
     "name": "stdout",
     "output_type": "stream",
     "text": [
      "torch.Size([2, 3, 4])\n"
     ]
    }
   ],
   "source": [
    "#batch_size=2\n",
    "A=torch.rand(2,3,5)\n",
    "B=torch.rand(2,5,4)\n",
    "C=torch.bmm(A,B)\n",
    "print(C.shape)"
   ]
  },
  {
   "cell_type": "markdown",
   "id": "f89265cf",
   "metadata": {},
   "source": [
    "# Class"
   ]
  },
  {
   "cell_type": "code",
   "execution_count": 8,
   "id": "b184ae06",
   "metadata": {},
   "outputs": [
    {
     "name": "stdout",
     "output_type": "stream",
     "text": [
      "Hi i'm LiHua,18 years old\n"
     ]
    }
   ],
   "source": [
    "class inform:\n",
    "    welcome=\"Hi\" #类属性（属于整个类，所有实例共享）\n",
    "    def __init__(self,name,age):\n",
    "        # 构造函数：初始化对象的属性\n",
    "        self.name=name #实例属性（属于每个实例，各自独立）\n",
    "        self.age=age\n",
    "    #类的方法\n",
    "    def introduce(self):\n",
    "        print(f\"{self.welcome} i'm {self.name},{self.age} years old\")\n",
    "p=inform(\"LiHua\",18)\n",
    "p.introduce()"
   ]
  },
  {
   "cell_type": "markdown",
   "id": "c81be43e",
   "metadata": {},
   "source": [
    "封装"
   ]
  },
  {
   "cell_type": "code",
   "execution_count": 4,
   "id": "b6fd13ec",
   "metadata": {},
   "outputs": [
    {
     "name": "stdout",
     "output_type": "stream",
     "text": [
      "10000\n",
      "LiHua save 1000 dollars and your balance is 11000 dollars\n"
     ]
    }
   ],
   "source": [
    "class BankAccount:\n",
    "    def __init__(self,owner,balance):\n",
    "        self.owner=owner #公共属性\n",
    "        self.__balance=balance #私有属性\n",
    "    def getBalance(self):\n",
    "        return self.__balance\n",
    "    def saveMoney(self,amount):\n",
    "        if amount>0:\n",
    "            self.__balance+=amount\n",
    "            print(f\"{self.owner} save {amount} dollars and your balance is {self.__balance} dollars\")\n",
    "        else:\n",
    "            print(\"Amount you save needs to be positibe\")\n",
    "account=BankAccount(\"LiHua\",10000)\n",
    "print(account.getBalance())\n",
    "account.saveMoney(1000)"
   ]
  },
  {
   "cell_type": "markdown",
   "id": "b0177dca",
   "metadata": {},
   "source": [
    "继承"
   ]
  },
  {
   "cell_type": "code",
   "execution_count": 6,
   "id": "99731240",
   "metadata": {},
   "outputs": [
    {
     "name": "stdout",
     "output_type": "stream",
     "text": [
      "wangcai said wangwang\n"
     ]
    }
   ],
   "source": [
    "class Animal:\n",
    "    def __init__(self,name):\n",
    "        self.name=name\n",
    "    def speak(self):\n",
    "        print(f\"{self.name} said woof\")\n",
    "class Dog(Animal):\n",
    "    def speak(self):\n",
    "        print(f\"{self.name} said wangwang\")\n",
    "class Cat(Animal):\n",
    "    def speak(self):\n",
    "        print(f\"{self.name} said miaomiao\")\n",
    "dog=Dog(\"wangcai\")\n",
    "dog.speak()"
   ]
  },
  {
   "cell_type": "markdown",
   "id": "92fd41b1",
   "metadata": {},
   "source": [
    "多态"
   ]
  },
  {
   "cell_type": "code",
   "execution_count": 7,
   "id": "e2b525d4",
   "metadata": {},
   "outputs": [
    {
     "name": "stdout",
     "output_type": "stream",
     "text": [
      "xiaohei said wangwang\n",
      "xiaobai said miaomiao\n",
      "anno said woof\n"
     ]
    }
   ],
   "source": [
    "def MakeAnimalSpeak(animal):\n",
    "    animal.speak()\n",
    "animals=[Dog(\"xiaohei\"),Cat(\"xiaobai\"),Animal(\"anno\")]\n",
    "for animal in animals:\n",
    "    MakeAnimalSpeak(animal)"
   ]
  },
  {
   "cell_type": "code",
   "execution_count": 14,
   "id": "f20baa6a",
   "metadata": {},
   "outputs": [
    {
     "name": "stdout",
     "output_type": "stream",
     "text": [
      "小鸟 啾啾叫。\n",
      "小鸟 会飞。\n",
      "企鹅 啾啾叫。\n",
      "企鹅 不会飞。\n",
      "小狗 汪汪叫。\n"
     ]
    }
   ],
   "source": [
    "class Animal:\n",
    "    def __init__(self, name):\n",
    "        self.name = name\n",
    "\n",
    "    def make_sound(self):\n",
    "        print(f\"{self.name} 发出了一些声音。\")\n",
    "\n",
    "class Bird(Animal):\n",
    "    def __init__(self, name, can_fly): #自定义初始化的需求\n",
    "        super().__init__(name)  # 初始化name属性\n",
    "        self.can_fly = can_fly    \n",
    "    # 重写父类方法，体现鸟类特有的叫声\n",
    "    def make_sound(self):\n",
    "        print(f\"{self.name} 啾啾叫。\")\n",
    "        if self.can_fly:\n",
    "            print(f\"{self.name} 会飞。\")\n",
    "        else:\n",
    "            print(f\"{self.name} 不会飞。\")\n",
    "\n",
    "class Dog(Animal):\n",
    "    def make_sound(self):\n",
    "        print(f\"{self.name} 汪汪叫。\")\n",
    "\n",
    "# 创建不同种类的动物\n",
    "animals = [Bird(\"小鸟\", True),Bird(\"企鹅\",False),Dog(\"小狗\")]\n",
    "\n",
    "# 统一调用方法，展现多态\n",
    "for animal in animals:\n",
    "    animal.make_sound()\n"
   ]
  }
 ],
 "metadata": {
  "kernelspec": {
   "display_name": "oi",
   "language": "python",
   "name": "oi"
  },
  "language_info": {
   "codemirror_mode": {
    "name": "ipython",
    "version": 3
   },
   "file_extension": ".py",
   "mimetype": "text/x-python",
   "name": "python",
   "nbconvert_exporter": "python",
   "pygments_lexer": "ipython3",
   "version": "3.9.13"
  }
 },
 "nbformat": 4,
 "nbformat_minor": 5
}
