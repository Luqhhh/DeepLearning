{
 "cells": [
  {
   "cell_type": "code",
   "execution_count": null,
   "id": "fdb3e112",
   "metadata": {},
   "outputs": [],
   "source": [
    "import torch\n",
    "import torchvision.datasets as dsets\n",
    "import torchvision.transforms as transforms\n",
    "import visdom"
   ]
  },
  {
   "cell_type": "code",
   "execution_count": null,
   "id": "45e78ec1",
   "metadata": {},
   "outputs": [],
   "source": [
    "torch.manual_seed(1)\n",
    "device='cuda'if torch.cuda.is_available()else'cpu'\n",
    "if device=='cuda':\n",
    "    torch.cuda.manual_seed_all(1)"
   ]
  },
  {
   "cell_type": "code",
   "execution_count": null,
   "id": "aa0e4047",
   "metadata": {},
   "outputs": [],
   "source": [
    "vis=visdom.Visdom()"
   ]
  },
  {
   "cell_type": "code",
   "execution_count": null,
   "id": "e8a7522a",
   "metadata": {},
   "outputs": [],
   "source": [
    "def loss_track(loss_plot,loss_value,num):\n",
    "    vis.line(X=num,\n",
    "             Y=loss_value,\n",
    "             win=loss_plot,\n",
    "             update='append')"
   ]
  },
  {
   "cell_type": "code",
   "execution_count": null,
   "id": "52bbd75f",
   "metadata": {},
   "outputs": [],
   "source": [
    "mnist_train=dsets.MNIST(root='./mnist_data',\n",
    "                        train=True,\n",
    "                        transform=transforms.ToTensor(),\n",
    "                        download=True)\n",
    "mnist_test=dsets.MNIST(root='./mnist_data',\n",
    "                       train=False,\n",
    "                       transform=transforms.ToTensor(),\n",
    "                       download=True)\n",
    "data_loader=torch.utils.data.DataLoader(dataset=mnist_train,\n",
    "                                        shuffle=True,\n",
    "                                        batch_size=100,\n",
    "                                        drop_last=True,\n",
    "                                        num_workers=2)"
   ]
  },
  {
   "cell_type": "code",
   "execution_count": null,
   "id": "5d119fce",
   "metadata": {},
   "outputs": [],
   "source": [
    "class CNN(torch.nn.Module):\n",
    "    def __init__(self):\n",
    "        super().__init__()\n",
    "        #(100,1,28,28)\n",
    "        self.layer1=torch.nn.Sequential(\n",
    "        torch.nn.Conv2d(1,32,kernel_size=3,stride=1,padding=1),\n",
    "        torch.nn.ReLU(),\n",
    "        torch.nn.MaxPool2d(kernel_size=2,stride=2))\n",
    "        #(100,32,14,14)\n",
    "        self.layer2=torch.nn.Sequential(\n",
    "        torch.nn.Conv2d(32,64,kernel_size=3,stride=1,padding=1),\n",
    "        torch.nn.ReLU(),\n",
    "        torch.nn.MaxPool2d(kernel_size=2,stride=2))\n",
    "        #(100,64,7,7)\n",
    "        self.layer3=torch.nn.Sequential(\n",
    "        torch.nn.Conv2d(64,128,kernel_size=3,stride=1,padding=1),\n",
    "        torch.nn.ReLU(),\n",
    "        torch.nn.MaxPool2d(kernel_size=2,stride=2,padding=1))\n",
    "        #(100,128,4,4)\n",
    "        self.fc1=torch.nn.Linear(128*4*4,625)\n",
    "        self.relu=torch.nn.ReLU()\n",
    "        self.fc2=torch.nn.Linear(625,10)\n",
    "        torch.nn.init.xavier_uniform_(self.fc1.weight)\n",
    "        torch.nn.init.xavier_uniform_(self.fc2.weight)\n",
    "    def forward(self,x):\n",
    "        out=self.layer1(x)\n",
    "        out=self.layer2(out)\n",
    "        out=self.layer3(out)\n",
    "        out=self.fc1(out.view(-1,128*4*4))\n",
    "        out=self.relu(out)\n",
    "        out=self.fc2(out)\n",
    "        return out"
   ]
  },
  {
   "cell_type": "code",
   "execution_count": null,
   "id": "52fa2775",
   "metadata": {},
   "outputs": [],
   "source": [
    "model=CNN().to(device)\n",
    "\n",
    "value=(torch.Tensor(1,1,28,28)).to(device)\n",
    "print(model(value).shape)"
   ]
  },
  {
   "cell_type": "code",
   "execution_count": null,
   "id": "685ea4d8",
   "metadata": {},
   "outputs": [],
   "source": [
    "criterion=torch.nn.CrossEntropyLoss().to(device)\n",
    "optimizer=torch.optim.Adam(model.parameters(),lr=0.003)"
   ]
  },
  {
   "cell_type": "code",
   "execution_count": null,
   "id": "e79ad689",
   "metadata": {},
   "outputs": [],
   "source": [
    "loss_plt=vis.line(Y=torch.Tensor(1).zero_(),opts=dict(title='loss_tracker',legend=['loss'],showlegend=True))"
   ]
  },
  {
   "cell_type": "code",
   "execution_count": null,
   "id": "52f58146",
   "metadata": {},
   "outputs": [],
   "source": [
    "#training\n",
    "total_batch = len(data_loader)\n",
    "\n",
    "for epoch in range(10):\n",
    "    avg_cost = 0\n",
    "    \n",
    "    for X, Y in data_loader:\n",
    "        X = X.to(device)\n",
    "        Y = Y.to(device)\n",
    "        \n",
    "        optimizer.zero_grad()\n",
    "        hypothesis = model(X)\n",
    "        \n",
    "        cost = criterion(hypothesis, Y)\n",
    "        cost.backward()\n",
    "        optimizer.step()\n",
    "        \n",
    "        avg_cost += cost / total_batch\n",
    "    \n",
    "    print('[Epoch:{}] cost = {}'.format(epoch+1, avg_cost))\n",
    "    loss_track(loss_plt, torch.Tensor([avg_cost]), torch.Tensor([epoch]))\n",
    "print('Learning Finished!')\n",
    "\n",
    "with torch.no_grad():\n",
    "    X_test = mnist_test.data.view(len(mnist_test), 1, 28, 28).float().to(device)\n",
    "    Y_test = mnist_test.targets.to(device)\n",
    "    \n",
    "    prediction = model(X_test)\n",
    "    correct_prediction = torch.argmax(prediction, 1) == Y_test\n",
    "    accuracy = correct_prediction.float().mean() \n",
    "    print('Accuracy:', accuracy.item())"
   ]
  },
  {
   "cell_type": "code",
   "execution_count": null,
   "id": "34036096",
   "metadata": {},
   "outputs": [],
   "source": []
  }
 ],
 "metadata": {
  "kernelspec": {
   "display_name": "oi",
   "language": "python",
   "name": "oi"
  },
  "language_info": {
   "codemirror_mode": {
    "name": "ipython",
    "version": 3
   },
   "file_extension": ".py",
   "mimetype": "text/x-python",
   "name": "python",
   "nbconvert_exporter": "python",
   "pygments_lexer": "ipython3",
   "version": "3.9.13"
  }
 },
 "nbformat": 4,
 "nbformat_minor": 5
}
