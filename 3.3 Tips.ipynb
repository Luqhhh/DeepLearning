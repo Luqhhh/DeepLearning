{
 "cells": [
  {
   "cell_type": "code",
   "execution_count": 1,
   "id": "4bc2ad70",
   "metadata": {},
   "outputs": [],
   "source": [
    "import torch\n",
    "import torch.nn as nn\n",
    "import torch.nn.functional as F\n",
    "import torch.optim as optim"
   ]
  },
  {
   "cell_type": "code",
   "execution_count": 2,
   "id": "6641e2eb",
   "metadata": {},
   "outputs": [
    {
     "data": {
      "text/plain": [
       "<torch._C.Generator at 0x221036df3b0>"
      ]
     },
     "execution_count": 2,
     "metadata": {},
     "output_type": "execute_result"
    }
   ],
   "source": [
    "torch.manual_seed(1)"
   ]
  },
  {
   "cell_type": "code",
   "execution_count": 3,
   "id": "73e0cf1d",
   "metadata": {},
   "outputs": [],
   "source": [
    "x_train = torch.FloatTensor([[1, 2, 1],\n",
    "                             [1, 3, 2],\n",
    "                             [1, 3, 4],\n",
    "                             [1, 5, 5],\n",
    "                             [1, 7, 5],\n",
    "                             [1, 2, 5],\n",
    "                             [1, 6, 6],\n",
    "                             [1, 7, 7]\n",
    "                            ])\n",
    "y_train = torch.LongTensor([2, 2, 2, 1, 1, 1, 0, 0])"
   ]
  },
  {
   "cell_type": "code",
   "execution_count": 4,
   "id": "895c306c",
   "metadata": {},
   "outputs": [],
   "source": [
    "x_test = torch.FloatTensor([[2, 1, 1], [3, 1, 2], [3, 3, 4]])\n",
    "y_test = torch.LongTensor([2, 2, 2])"
   ]
  },
  {
   "cell_type": "code",
   "execution_count": 6,
   "id": "31adf031",
   "metadata": {},
   "outputs": [],
   "source": [
    "class SoftmaxClassifierModel(nn.Module):\n",
    "    def __init__(self):\n",
    "        super().__init__()\n",
    "        self.linear=nn.Linear(3,3)\n",
    "    def forward(self,x):\n",
    "        return self.linear(x)\n",
    "    \n",
    "model=SoftmaxClassifierModel()\n",
    "\n",
    "optimizer=optim.SGD(model.parameters(),lr=0.1)\n",
    "\n",
    "def train(model,x_train,y_train,optimizer):\n",
    "    \n",
    "    nb_epochs=1000\n",
    "    \n",
    "    for epoch in range(nb_epochs+1):\n",
    "        \n",
    "        prediction=model(x_train)\n",
    "        cost=F.cross_entropy(prediction,y_train)\n",
    "        \n",
    "        optimizer.zero_grad()\n",
    "        cost.backward()\n",
    "        optimizer.step()\n",
    "        \n",
    "        if epoch%100==0:\n",
    "            print(\"Epochs:{:4d}/{}Cost:{:.6f}\".format(\n",
    "            epoch,nb_epochs,cost.item()\n",
    "            ))\n",
    "            \n",
    "def test(model, optimizer, x_test, y_test):\n",
    "    \n",
    "    prediction = model(x_test)\n",
    "    \n",
    "    predicted_classes = prediction.max(1)[1]\n",
    "    \n",
    "    correct_count = (predicted_classes == y_test).sum().item()\n",
    "    \n",
    "    cost = F.cross_entropy(prediction, y_test)\n",
    "\n",
    "    print('Accuracy: {}% Cost: {:.6f}'.format(\n",
    "         correct_count / len(y_test) * 100, cost.item()\n",
    "    ))"
   ]
  },
  {
   "cell_type": "markdown",
   "id": "e8146bdb",
   "metadata": {},
   "source": [
    "Zero-centerd&Normalization"
   ]
  },
  {
   "cell_type": "code",
   "execution_count": 7,
   "id": "e42e3a7c",
   "metadata": {},
   "outputs": [],
   "source": [
    "x_train = torch.FloatTensor([[73, 80, 75],\n",
    "                             [93, 88, 93],\n",
    "                             [89, 91, 90],\n",
    "                             [96, 98, 100],\n",
    "                             [73, 66, 70]])\n",
    "y_train = torch.FloatTensor([[152], [185], [180], [196], [142]])"
   ]
  },
  {
   "cell_type": "code",
   "execution_count": 10,
   "id": "3c3e07df",
   "metadata": {},
   "outputs": [
    {
     "name": "stdout",
     "output_type": "stream",
     "text": [
      "tensor([[-1.0674, -0.3758, -0.8398],\n",
      "        [ 0.7418,  0.2778,  0.5863],\n",
      "        [ 0.3799,  0.5229,  0.3486],\n",
      "        [ 1.0132,  1.0948,  1.1409],\n",
      "        [-1.0674, -1.5197, -1.2360]])\n"
     ]
    }
   ],
   "source": [
    "#对每一列（每个特征）进行标准化\n",
    "mu=x_train.mean(dim=0)\n",
    "sigma=x_train.std(dim=0)\n",
    "#sigma is the standard deviation and mu is the mean.\n",
    "norm_x_train=(x_train-mu)/sigma\n",
    "print(norm_x_train)"
   ]
  },
  {
   "cell_type": "markdown",
   "id": "2a1e8280",
   "metadata": {},
   "source": [
    "Overfitting\n",
    "\n",
    "It may overfit the training data and perform poorly on test data.\n",
    "\n",
    "There are three main ways to prevent this:\n",
    "\n",
    "More training data\n",
    "\n",
    "Fewer features\n",
    "\n",
    "Regularization:not have too big numbers in the weights"
   ]
  },
  {
   "cell_type": "code",
   "execution_count": 9,
   "id": "30209e81",
   "metadata": {},
   "outputs": [],
   "source": [
    "def train_with_regularization(model, optimizer, x_train, y_train):\n",
    "    nb_epochs = 20\n",
    "    for epoch in range(nb_epochs):\n",
    "\n",
    "        # Calculate H(x)\n",
    "        prediction = model(x_train)\n",
    "\n",
    "        # Calculate cost\n",
    "        cost = F.mse_loss(prediction, y_train)\n",
    "        \n",
    "        #（L2 正则化）\n",
    "        # Calculate L2 norm\n",
    "        l2_reg = 0\n",
    "        for param in model.parameters():\n",
    "            l2_reg += torch.norm(param)\n",
    "        #其中 λ（正则化系数）控制 L2 正则化的强度（此处为1）\n",
    "        cost += l2_reg\n",
    "\n",
    "        # Improve H(x) based on cost\n",
    "        optimizer.zero_grad()\n",
    "        cost.backward()\n",
    "        optimizer.step()\n",
    "\n",
    "        print('Epoch {:4d}/{} Cost: {:.6f}'.format(\n",
    "            epoch+1, nb_epochs, cost.item()\n",
    "        ))\n"
   ]
  }
 ],
 "metadata": {
  "kernelspec": {
   "display_name": "oi",
   "language": "python",
   "name": "oi"
  },
  "language_info": {
   "codemirror_mode": {
    "name": "ipython",
    "version": 3
   },
   "file_extension": ".py",
   "mimetype": "text/x-python",
   "name": "python",
   "nbconvert_exporter": "python",
   "pygments_lexer": "ipython3",
   "version": "3.9.13"
  }
 },
 "nbformat": 4,
 "nbformat_minor": 5
}
