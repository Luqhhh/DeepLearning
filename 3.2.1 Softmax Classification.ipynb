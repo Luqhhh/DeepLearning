{
 "cells": [
  {
   "cell_type": "code",
   "execution_count": 1,
   "id": "4ef12510",
   "metadata": {},
   "outputs": [
    {
     "data": {
      "text/plain": [
       "<torch._C.Generator at 0x1bf3deb0950>"
      ]
     },
     "execution_count": 1,
     "metadata": {},
     "output_type": "execute_result"
    }
   ],
   "source": [
    "import torch\n",
    "import torch.nn as nn\n",
    "import torch.nn.functional as F\n",
    "import torch.optim as optim\n",
    "\n",
    "torch.manual_seed(1)"
   ]
  },
  {
   "cell_type": "code",
   "execution_count": 2,
   "id": "b96e8f8d",
   "metadata": {},
   "outputs": [],
   "source": [
    "z=torch.FloatTensor([1,2,3])"
   ]
  },
  {
   "cell_type": "code",
   "execution_count": 3,
   "id": "f52484e2",
   "metadata": {},
   "outputs": [
    {
     "name": "stdout",
     "output_type": "stream",
     "text": [
      "tensor([0.0900, 0.2447, 0.6652])\n",
      "tensor(1.)\n"
     ]
    }
   ],
   "source": [
    "hypothesis=F.softmax(z,dim=0) #一维张量的 dim=0 是直接对所有元素进行 softmax\n",
    "print(hypothesis)\n",
    "print(hypothesis.sum())"
   ]
  },
  {
   "cell_type": "code",
   "execution_count": 4,
   "id": "9fd295c9",
   "metadata": {},
   "outputs": [
    {
     "name": "stdout",
     "output_type": "stream",
     "text": [
      "tensor([[0.0474, 0.0474, 0.0474],\n",
      "        [0.9526, 0.9526, 0.9526]])\n",
      "tensor([[0.0900, 0.2447, 0.6652],\n",
      "        [0.0900, 0.2447, 0.6652]])\n"
     ]
    }
   ],
   "source": [
    "t=torch.FloatTensor([[1,2,3],[4,5,6]])\n",
    "hy_1=F.softmax(t,dim=0)#对 行 进行 softmax（通常用于批量数据）\n",
    "print(hy_1)\n",
    "hy_2=F.softmax(t,dim=1)#对 列 进行 softmax（通常用于分类任务的输出层）\n",
    "print(hy_2)\n",
    "#数值稳定性,避免溢出\n",
    "hypothesis=F.softmax(t-t.max(),dim=0)"
   ]
  },
  {
   "cell_type": "code",
   "execution_count": 5,
   "id": "00f5a41a",
   "metadata": {},
   "outputs": [
    {
     "name": "stdout",
     "output_type": "stream",
     "text": [
      "tensor([[0.7576, 0.2793, 0.4031, 0.7347, 0.0293],\n",
      "        [0.7999, 0.3971, 0.7544, 0.5695, 0.4388],\n",
      "        [0.6387, 0.5247, 0.6826, 0.3051, 0.4635]], requires_grad=True)\n",
      "tensor([[0.2645, 0.1639, 0.1855, 0.2585, 0.1277],\n",
      "        [0.2430, 0.1624, 0.2322, 0.1930, 0.1694],\n",
      "        [0.2226, 0.1986, 0.2326, 0.1594, 0.1868]], grad_fn=<SoftmaxBackward0>)\n"
     ]
    }
   ],
   "source": [
    "z=torch.rand([3,5],requires_grad=True)\n",
    "print(z)\n",
    "hypothesis=F.softmax(z,dim=1)\n",
    "print(hypothesis)"
   ]
  },
  {
   "cell_type": "code",
   "execution_count": 6,
   "id": "df0c2e16",
   "metadata": {},
   "outputs": [
    {
     "name": "stdout",
     "output_type": "stream",
     "text": [
      "tensor([0, 2, 1])\n"
     ]
    },
    {
     "data": {
      "text/plain": [
       "tensor([[1., 0., 0., 0., 0.],\n",
       "        [0., 0., 1., 0., 0.],\n",
       "        [0., 1., 0., 0., 0.]])"
      ]
     },
     "execution_count": 6,
     "metadata": {},
     "output_type": "execute_result"
    }
   ],
   "source": [
    "y=torch.randint(0,5,(3,))\n",
    "print(y)\n",
    "y_one_hot=torch.zeros_like(hypothesis)\n",
    "y_one_hot.scatter_(1,y.unsqueeze(1),1)"
   ]
  },
  {
   "cell_type": "code",
   "execution_count": 7,
   "id": "118ba560",
   "metadata": {},
   "outputs": [
    {
     "name": "stdout",
     "output_type": "stream",
     "text": [
      "tensor(1.4689, grad_fn=<MeanBackward0>)\n"
     ]
    }
   ],
   "source": [
    "cost=(y_one_hot*-torch.log(hypothesis)).sum(dim=1).mean()#Cross Entropy Loss\n",
    "print(cost)"
   ]
  },
  {
   "cell_type": "code",
   "execution_count": 8,
   "id": "ead1e98c",
   "metadata": {},
   "outputs": [
    {
     "data": {
      "text/plain": [
       "tensor([[-1.3301, -1.8084, -1.6846, -1.3530, -2.0584],\n",
       "        [-1.4147, -1.8174, -1.4602, -1.6450, -1.7758],\n",
       "        [-1.5025, -1.6165, -1.4586, -1.8360, -1.6776]], grad_fn=<LogBackward0>)"
      ]
     },
     "execution_count": 8,
     "metadata": {},
     "output_type": "execute_result"
    }
   ],
   "source": [
    "torch.log(F.softmax(z,dim=1))"
   ]
  },
  {
   "cell_type": "code",
   "execution_count": 9,
   "id": "cfed1018",
   "metadata": {},
   "outputs": [
    {
     "data": {
      "text/plain": [
       "tensor([[-1.3301, -1.8084, -1.6846, -1.3530, -2.0584],\n",
       "        [-1.4147, -1.8174, -1.4602, -1.6450, -1.7758],\n",
       "        [-1.5025, -1.6165, -1.4586, -1.8360, -1.6776]],\n",
       "       grad_fn=<LogSoftmaxBackward0>)"
      ]
     },
     "execution_count": 9,
     "metadata": {},
     "output_type": "execute_result"
    }
   ],
   "source": [
    "F.log_softmax(z,dim=1)"
   ]
  },
  {
   "cell_type": "code",
   "execution_count": 10,
   "id": "ccff75d5",
   "metadata": {},
   "outputs": [
    {
     "data": {
      "text/plain": [
       "tensor(1.4689, grad_fn=<MeanBackward0>)"
      ]
     },
     "execution_count": 10,
     "metadata": {},
     "output_type": "execute_result"
    }
   ],
   "source": [
    "(y_one_hot*-torch.log(F.softmax(z,dim=1))).sum(dim=1).mean()"
   ]
  },
  {
   "cell_type": "code",
   "execution_count": 11,
   "id": "0b515a45",
   "metadata": {},
   "outputs": [
    {
     "data": {
      "text/plain": [
       "tensor(1.4689, grad_fn=<NllLossBackward0>)"
      ]
     },
     "execution_count": 11,
     "metadata": {},
     "output_type": "execute_result"
    }
   ],
   "source": [
    "F.nll_loss(F.log_softmax(z,dim=1),y)"
   ]
  },
  {
   "cell_type": "code",
   "execution_count": 12,
   "id": "5602a63f",
   "metadata": {},
   "outputs": [
    {
     "data": {
      "text/plain": [
       "tensor(1.4689, grad_fn=<NllLossBackward0>)"
      ]
     },
     "execution_count": 12,
     "metadata": {},
     "output_type": "execute_result"
    }
   ],
   "source": [
    "F.cross_entropy(z,y)"
   ]
  },
  {
   "cell_type": "code",
   "execution_count": 13,
   "id": "a811b7ed",
   "metadata": {},
   "outputs": [],
   "source": [
    "x_data  = [[1, 2, 1, 1],\n",
    "           [2, 1, 3, 2],\n",
    "           [3, 1, 3, 4],\n",
    "           [4, 1, 5, 5],\n",
    "           [1, 7, 5, 5],\n",
    "           [1, 2, 5, 6],\n",
    "           [1, 6, 6, 6],\n",
    "           [1, 7, 7, 7]]\n",
    "y_data  = [2, 2, 2, 1, 1, 1, 0, 0]\n",
    "\n",
    "x_train=torch.FloatTensor(x_data)\n",
    "y_train=torch.FloatTensor(y_data)"
   ]
  },
  {
   "cell_type": "code",
   "execution_count": 14,
   "id": "061a6e73",
   "metadata": {},
   "outputs": [
    {
     "name": "stdout",
     "output_type": "stream",
     "text": [
      "Epoch:   0/1000Cost:1.098612\n",
      "Epoch: 100/1000Cost:0.761050\n",
      "Epoch: 200/1000Cost:0.689991\n",
      "Epoch: 300/1000Cost:0.643229\n",
      "Epoch: 400/1000Cost:0.604117\n",
      "Epoch: 500/1000Cost:0.568255\n",
      "Epoch: 600/1000Cost:0.533922\n",
      "Epoch: 700/1000Cost:0.500291\n",
      "Epoch: 800/1000Cost:0.466908\n",
      "Epoch: 900/1000Cost:0.433507\n",
      "Epoch:1000/1000Cost:0.399962\n"
     ]
    }
   ],
   "source": [
    "W=torch.zeros((4,3),requires_grad=True)\n",
    "b=torch.zeros(1,requires_grad=True)\n",
    "\n",
    "optimizer=optim.SGD([W,b],lr=0.1)\n",
    "\n",
    "nb_epochs=1000\n",
    "for epoch in range(nb_epochs+1):\n",
    "    \n",
    "    hypothesis=F.softmax(x_train.matmul(W)+b,dim=1)\n",
    "    \n",
    "    y_one_hot=torch.zeros_like(hypothesis)\n",
    "    y_one_hot.scatter_(1,y_train.unsqueeze(1).long(),1)\n",
    "    \n",
    "    cost=(y_one_hot*-torch.log(hypothesis)).sum(dim=1).mean()\n",
    "    \n",
    "    #z=x_train.matmul(W)+b\n",
    "    #cost=F.cross_entropy(z,y_train)\n",
    "    \n",
    "    optimizer.zero_grad()\n",
    "    cost.backward()\n",
    "    optimizer.step()\n",
    "    \n",
    "    if epoch%100==0:\n",
    "        print(\"Epoch:{:4d}/{}Cost:{:.6f}\".format(\n",
    "        epoch,nb_epochs,cost.item()\n",
    "        ))"
   ]
  },
  {
   "cell_type": "code",
   "execution_count": null,
   "id": "5ee3a872",
   "metadata": {},
   "outputs": [],
   "source": []
  }
 ],
 "metadata": {
  "kernelspec": {
   "display_name": "oi",
   "language": "python",
   "name": "oi"
  },
  "language_info": {
   "codemirror_mode": {
    "name": "ipython",
    "version": 3
   },
   "file_extension": ".py",
   "mimetype": "text/x-python",
   "name": "python",
   "nbconvert_exporter": "python",
   "pygments_lexer": "ipython3",
   "version": "3.9.13"
  }
 },
 "nbformat": 4,
 "nbformat_minor": 5
}
