{
 "cells": [
  {
   "cell_type": "code",
   "execution_count": 9,
   "id": "da615705",
   "metadata": {},
   "outputs": [
    {
     "data": {
      "text/plain": [
       "<torch._C.Generator at 0x188de4b2450>"
      ]
     },
     "execution_count": 9,
     "metadata": {},
     "output_type": "execute_result"
    }
   ],
   "source": [
    "import numpy as np\n",
    "import torch\n",
    "import torch.nn as nn\n",
    "import torch.nn.functional as F\n",
    "import torch.optim as optim\n",
    "\n",
    "torch.manual_seed(1)"
   ]
  },
  {
   "cell_type": "markdown",
   "id": "b3b0497f",
   "metadata": {},
   "source": [
    "# Slicing 1D Array"
   ]
  },
  {
   "cell_type": "code",
   "execution_count": 1,
   "id": "a0e2d71a",
   "metadata": {},
   "outputs": [],
   "source": [
    "nums=[0,1,2,3,4,5]"
   ]
  },
  {
   "cell_type": "markdown",
   "id": "9c548f55",
   "metadata": {},
   "source": [
    "左闭右开"
   ]
  },
  {
   "cell_type": "code",
   "execution_count": 2,
   "id": "c52e0da0",
   "metadata": {},
   "outputs": [
    {
     "name": "stdout",
     "output_type": "stream",
     "text": [
      "[0, 1, 2, 3, 4]\n",
      "[0, 1, 2, 3, 4, 5]\n",
      "[2, 3, 4, 5]\n",
      "[0, 1]\n",
      "[0, 1, 2, 3, 4]\n"
     ]
    }
   ],
   "source": [
    "print(nums[0:5])\n",
    "print(nums[:])\n",
    "print(nums[2:])\n",
    "print(nums[:2])\n",
    "print(nums[:-1])"
   ]
  },
  {
   "cell_type": "code",
   "execution_count": 4,
   "id": "ede00fe5",
   "metadata": {},
   "outputs": [
    {
     "name": "stdout",
     "output_type": "stream",
     "text": [
      "[0, 1, 4, 6, 5]\n"
     ]
    }
   ],
   "source": [
    "nums[2:4]=[4,6]\n",
    "print(nums)"
   ]
  },
  {
   "cell_type": "markdown",
   "id": "dc8e1920",
   "metadata": {},
   "source": [
    "# Slicing 2D Array"
   ]
  },
  {
   "cell_type": "code",
   "execution_count": 8,
   "id": "94439797",
   "metadata": {},
   "outputs": [
    {
     "name": "stdout",
     "output_type": "stream",
     "text": [
      "[[ 1  2  3  4]\n",
      " [ 5  6  7  8]\n",
      " [ 9 10 11 12]]\n",
      "(3, 4)\n",
      "2\n",
      "[1 5 9]\n",
      "[1 2 3 4]\n",
      "[ 9 10 11 12]\n",
      "[ 9 10 11 12]\n",
      "[ 9 10 11 12]\n",
      "[[1 2 3 4]\n",
      " [5 6 7 8]]\n"
     ]
    }
   ],
   "source": [
    "b=np.array([[1,2,3,4],[5,6,7,8],[9,10,11,12]])\n",
    "print(b)\n",
    "print(b.shape)\n",
    "print(b.ndim)\n",
    "\n",
    "print(b[:,0])\n",
    "print(b[0,:])\n",
    "\n",
    "print(b[-1])\n",
    "print(b[-1,:])\n",
    "print(b[-1,...])\n",
    "\n",
    "print(b[0:2,:])"
   ]
  },
  {
   "cell_type": "markdown",
   "id": "a14fe6c8",
   "metadata": {},
   "source": [
    "# Loading Data From .csv File"
   ]
  },
  {
   "cell_type": "code",
   "execution_count": 11,
   "id": "3079691d",
   "metadata": {},
   "outputs": [
    {
     "name": "stdout",
     "output_type": "stream",
     "text": [
      "[[ 73.  80.  75.]\n",
      " [ 93.  88.  93.]\n",
      " [ 89.  91.  90.]\n",
      " [ 96.  98. 100.]\n",
      " [ 73.  66.  70.]]\n",
      "(5, 3)\n",
      "5\n",
      "[[ 73.  80.  75.]\n",
      " [ 93.  88.  93.]\n",
      " [ 89.  91.  90.]\n",
      " [ 96.  98. 100.]\n",
      " [ 73.  66.  70.]]\n",
      "[[152.]\n",
      " [185.]\n",
      " [180.]\n",
      " [196.]\n",
      " [142.]]\n",
      "(5, 1)\n",
      "5\n",
      "[[152.]\n",
      " [185.]\n",
      " [180.]\n",
      " [196.]\n",
      " [142.]]\n"
     ]
    }
   ],
   "source": [
    "xy=np.loadtxt('data-01-test-score.csv',delimiter=',',dtype=np.float32)\n",
    "x_data=xy[:,0:-1]\n",
    "y_data=xy[:,[-1]] \n",
    "\n",
    "print(x_data)\n",
    "print(x_data.shape)\n",
    "print(len(x_data))\n",
    "print(x_data[:5])\n",
    "\n",
    "print(y_data)\n",
    "print(y_data.shape)\n",
    "print(len(y_data))\n",
    "print(y_data[:5])"
   ]
  },
  {
   "cell_type": "markdown",
   "id": "6d473269",
   "metadata": {},
   "source": [
    "对比于y_data=xy[ : , -1 ] , y_data=xy[ : , [ -1 ] ]可保留为二维"
   ]
  },
  {
   "cell_type": "markdown",
   "id": "471982bc",
   "metadata": {},
   "source": [
    "# Low-Level Implementation "
   ]
  },
  {
   "cell_type": "code",
   "execution_count": null,
   "id": "b8e38074",
   "metadata": {},
   "outputs": [],
   "source": [
    "x_train=torch.FloatTensor(x_data)\n",
    "y_train=torch.FloatTensor(y_data)\n",
    "\n",
    "W=torch.zeros((3,1),requires_grad=True)\n",
    "b=torch.zeros(1,requires_grad=True)\n",
    "\n",
    "optimizer=optim.SGD([W,b],lr=1e-5)\n",
    "\n",
    "nb_epochs=20\n",
    "for epoch in range(nb_epochs+1):\n",
    "    \n",
    "    hypothesis=x_train.matmul(W)+b\n",
    "    \n",
    "    cost=torch.mean((hypothesis-y_train)**2)\n",
    "    \n",
    "    optimizer.zero_grad()\n",
    "    cost.backward()\n",
    "    optimizer.step()\n",
    "    \n",
    "    print('Epoch{:4d}/{} Cost:{:.6f}'.format(\n",
    "        epoch,nb_epochs,cost.item()\n",
    "    ))"
   ]
  },
  {
   "cell_type": "markdown",
   "id": "f1c59071",
   "metadata": {},
   "source": [
    "# High-Level Implementation"
   ]
  },
  {
   "cell_type": "code",
   "execution_count": 13,
   "id": "0f47bc7f",
   "metadata": {},
   "outputs": [],
   "source": [
    "class MultivariateLinearRegressionModel(nn.Module):\n",
    "    def __init__(self):\n",
    "        super().__init__()\n",
    "        self.linear=nn.Linear(3,1)\n",
    "        \n",
    "    def forward(self,x):\n",
    "        return self.linear(x)"
   ]
  },
  {
   "cell_type": "code",
   "execution_count": 15,
   "id": "2c91ecc3",
   "metadata": {},
   "outputs": [
    {
     "name": "stdout",
     "output_type": "stream",
     "text": [
      "Epoch    0/20 Cost: 39633.414062\n",
      "Epoch    1/20 Cost: 12431.273438\n",
      "Epoch    2/20 Cost: 3904.840332\n",
      "Epoch    3/20 Cost: 1232.251709\n",
      "Epoch    4/20 Cost: 394.532684\n",
      "Epoch    5/20 Cost: 131.948273\n",
      "Epoch    6/20 Cost: 49.637566\n",
      "Epoch    7/20 Cost: 23.833128\n",
      "Epoch    8/20 Cost: 15.740547\n",
      "Epoch    9/20 Cost: 13.199559\n",
      "Epoch   10/20 Cost: 12.398743\n",
      "Epoch   11/20 Cost: 12.143396\n",
      "Epoch   12/20 Cost: 12.059056\n",
      "Epoch   13/20 Cost: 12.028257\n",
      "Epoch   14/20 Cost: 12.014270\n",
      "Epoch   15/20 Cost: 12.005560\n",
      "Epoch   16/20 Cost: 11.998510\n",
      "Epoch   17/20 Cost: 11.991979\n",
      "Epoch   18/20 Cost: 11.985615\n",
      "Epoch   19/20 Cost: 11.979303\n",
      "Epoch   20/20 Cost: 11.973015\n"
     ]
    }
   ],
   "source": [
    "x_train=torch.FloatTensor(x_data)\n",
    "y_train=torch.FloatTensor(y_data)\n",
    "\n",
    "model=MultivariateLinearRegressionModel()\n",
    "\n",
    "optimizer=optim.SGD(model.parameters(),lr=1e-5)\n",
    "\n",
    "nb_epochs = 20\n",
    "for epoch in range(nb_epochs+1):\n",
    "    \n",
    "    prediction=model(x_train)\n",
    "    \n",
    "    cost=F.mse_loss(prediction,y_train)\n",
    "    \n",
    "    optimizer.zero_grad()\n",
    "    cost.backward()\n",
    "    optimizer.step()\n",
    "    \n",
    "    print('Epoch {:4d}/{} Cost: {:.6f}'.format(\n",
    "        epoch, nb_epochs, cost.item()\n",
    "    ))"
   ]
  }
 ],
 "metadata": {
  "kernelspec": {
   "display_name": "oi",
   "language": "python",
   "name": "oi"
  },
  "language_info": {
   "codemirror_mode": {
    "name": "ipython",
    "version": 3
   },
   "file_extension": ".py",
   "mimetype": "text/x-python",
   "name": "python",
   "nbconvert_exporter": "python",
   "pygments_lexer": "ipython3",
   "version": "3.9.13"
  }
 },
 "nbformat": 4,
 "nbformat_minor": 5
}
